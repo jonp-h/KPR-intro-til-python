{
 "cells": [
  {
   "attachments": {},
   "cell_type": "markdown",
   "metadata": {
    "deletable": false,
    "editable": false,
    "run_control": {
     "frozen": true
    }
   },
   "source": [
    "# Peppes Pizza\n",
    "\n",
    "**Læringsmål:**\n",
    "\n",
    "* Gjøre enkle kalkulasjoner i python\n",
    "* Skrive et enkelt program\n",
    "\n",
    "Du har nettopp spist middag på Peppes Pizza med noen venner, og mottar denne kvitteringen:\n",
    "\n",
    "  \n",
    "```python\n",
    "Pizza: 750kr\n",
    "Elevrabatt: 20%\n",
    "Tips: 8%\n",
    "```"
   ]
  },
  {
   "attachments": {},
   "cell_type": "markdown",
   "metadata": {
    "deletable": false,
    "editable": false,
    "run_control": {
     "frozen": true
    }
   },
   "source": [
    "## a)"
   ]
  },
  {
   "attachments": {},
   "cell_type": "markdown",
   "metadata": {
    "deletable": false,
    "editable": false,
    "run_control": {
     "frozen": true
    }
   },
   "source": [
    "Lag et program som lagrer verdiene fra regningen i variabler. Variablene skal altså være `pizza`, `elevrabatt` og `tips`.\n",
    "\n",
    "***Skriv koden i blokken under***"
   ]
  },
  {
   "cell_type": "code",
   "execution_count": null,
   "metadata": {},
   "outputs": [],
   "source": []
  },
  {
   "attachments": {},
   "cell_type": "markdown",
   "metadata": {
    "deletable": false,
    "editable": false,
    "heading_collapsed": true,
    "run_control": {
     "frozen": true
    }
   },
   "source": [
    "#### Eksempel på lignende tilfelle"
   ]
  },
  {
   "attachments": {},
   "cell_type": "markdown",
   "metadata": {
    "deletable": false,
    "editable": false,
    "hidden": true,
    "run_control": {
     "frozen": true
    }
   },
   "source": [
    "Geralt var på kino i helgen og mottok denne regningen:\n",
    "\n",
    "**Regning fra Nova kino:**\n",
    "  \n",
    "```python\n",
    "Kinobillett: 125kr\n",
    "Popcorn: 70kr\n",
    "Brus: 25kr\n",
    "Rabatt = 10%\n",
    "```\n",
    "\n",
    "I programmet under er verdiene fra regningen blitt lagret i variablene `kinobillett`, `popcorn` og `brus`.\n",
    "\n",
    "**Kode:**\n",
    "\n",
    "  \n",
    "```python\n",
    "kinobillett = 125\n",
    "popcorn = 70\n",
    "brus = 25\n",
    "rabatt = 0.10\n",
    "```"
   ]
  },
  {
   "attachments": {},
   "cell_type": "markdown",
   "metadata": {
    "deletable": false,
    "editable": false,
    "run_control": {
     "frozen": true
    }
   },
   "source": [
    "## b)"
   ]
  },
  {
   "attachments": {},
   "cell_type": "markdown",
   "metadata": {
    "deletable": false,
    "editable": false,
    "run_control": {
     "frozen": true
    }
   },
   "source": [
    "Lag en variabel `total` som er lik den totale summen av middagen. Du kan skrive i samme kodeblokk som oppgave a."
   ]
  },
  {
   "attachments": {},
   "cell_type": "markdown",
   "metadata": {
    "deletable": false,
    "editable": false,
    "heading_collapsed": true,
    "run_control": {
     "frozen": true
    }
   },
   "source": [
    "#### Eksempel på lignende tilfelle"
   ]
  },
  {
   "attachments": {},
   "cell_type": "markdown",
   "metadata": {
    "deletable": false,
    "editable": false,
    "hidden": true,
    "run_control": {
     "frozen": true
    }
   },
   "source": [
    "Tar utgangspunkt i regningen fra Prinsen kino som Geralt fikk under Eksempel på lignende tilfelle under oppgave a. For å regne ut den totale summen kan dette gjøres på følgende måte:\n",
    "\n",
    "  \n",
    "```python\n",
    "total = (kinobillett + brus + popcorn) * (1-rabatt)\n",
    "```"
   ]
  },
  {
   "attachments": {},
   "cell_type": "markdown",
   "metadata": {
    "deletable": false,
    "editable": false,
    "run_control": {
     "frozen": true
    }
   },
   "source": [
    "## c) "
   ]
  },
  {
   "attachments": {},
   "cell_type": "markdown",
   "metadata": {
    "deletable": false,
    "editable": false,
    "run_control": {
     "frozen": true
    }
   },
   "source": [
    "Gjør slik at brukeren kan skrive inn hvor mange som deltok på middagen, og print ut hvor mye hver person må betale. Du kan godt gjenbruke `total`-variabelen fra kodeblokken over!\n",
    "\n",
    "**Eksempel på kjøring:**\n",
    "\n",
    "  \n",
    "```python\n",
    "Total pris: 648.0\n",
    "Hvor mange deltok på middagen? 6\n",
    "Ettersom dere var 6 personer, så må hver person betale 108.0 kroner.\n",
    "```\n",
    "\n",
    "***Skriv koden i blokken under***"
   ]
  },
  {
   "cell_type": "code",
   "execution_count": null,
   "metadata": {},
   "outputs": [],
   "source": []
  },
  {
   "attachments": {},
   "cell_type": "markdown",
   "metadata": {
    "deletable": false,
    "editable": false,
    "heading_collapsed": true,
    "run_control": {
     "frozen": true
    }
   },
   "source": [
    "### Hint"
   ]
  },
  {
   "attachments": {},
   "cell_type": "markdown",
   "metadata": {
    "deletable": false,
    "editable": false,
    "hidden": true,
    "run_control": {
     "frozen": true
    }
   },
   "source": [
    "For at man skal bruke input i beregninger må den gjøres om til en int."
   ]
  }
 ],
 "metadata": {
  "kernelspec": {
   "display_name": "Python 3 (ipykernel)",
   "language": "python",
   "name": "python3"
  },
  "language_info": {
   "codemirror_mode": {
    "name": "ipython",
    "version": 3
   },
   "file_extension": ".py",
   "mimetype": "text/x-python",
   "name": "python",
   "nbconvert_exporter": "python",
   "pygments_lexer": "ipython3",
   "version": "3.9.7"
  },
  "toc": {
   "base_numbering": 1,
   "nav_menu": {},
   "number_sections": false,
   "sideBar": true,
   "skip_h1_title": false,
   "title_cell": "Table of Contents",
   "title_sidebar": "Contents",
   "toc_cell": false,
   "toc_position": {},
   "toc_section_display": true,
   "toc_window_display": false
  }
 },
 "nbformat": 4,
 "nbformat_minor": 2
}
