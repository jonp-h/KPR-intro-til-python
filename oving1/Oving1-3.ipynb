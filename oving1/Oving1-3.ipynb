{
 "cells": [
  {
   "attachments": {},
   "cell_type": "markdown",
   "metadata": {
    "deletable": false,
    "editable": false,
    "run_control": {
     "frozen": true
    }
   },
   "source": [
    "# Input og variable\n",
    "\n",
    "**Læringsmål:**\n",
    "\n",
    "* Lage programmer der brukeren gir inn tekst med input()\n",
    "\n",
    "* Enkel bruk av variable\n",
    "\n",
    "* Korrekt navngivning av variable\n"
   ]
  },
  {
   "attachments": {},
   "cell_type": "markdown",
   "metadata": {
    "heading_collapsed": true
   },
   "source": [
    "## **Tutorial del 1: funksjonen input()**"
   ]
  },
  {
   "attachments": {},
   "cell_type": "markdown",
   "metadata": {
    "deletable": false,
    "editable": false,
    "hidden": true,
    "run_control": {
     "frozen": true
    }
   },
   "source": [
    "**Hvorfor trenger vi input?** I mange programmer er det viktig å kunne la brukeren gi input. I en nettbutikk må kunden kunne velge produkt, oppgi adresse det skal sendes til, betalingsmåte, osv.\n",
    "\n",
    "Input kan gis på mange måter, f.eks. via berøringsskjermer, mus, eller med stemme. Her skal du lære den måten som er lettest å programmere, nemlig input av tekst fra tastatur.\n",
    "Dette gjøres i Python ved hjelp av funksjonen `input()`. I likhet med `print()` er dette en funksjon i Pythons standardbibliotek.\n",
    "Kjør koden under, så ser du noen viktige forskjeller på print() og input()\n",
    "\n",
    "**print() og input()**"
   ]
  },
  {
   "cell_type": "code",
   "execution_count": null,
   "metadata": {
    "hidden": true
   },
   "outputs": [],
   "source": [
    "print(\"print() skriver tekst ut på skjerm og skifter linje\")\n",
    "input(\"input() venter at du skriver noe og slår Enter: \")\n",
    "print(\"print() kan ha\", \"mange tekster\", \"skilt med komma\")\n",
    "input(\"input() tillater kun en tekst! OK? \")"
   ]
  },
  {
   "attachments": {},
   "cell_type": "markdown",
   "metadata": {
    "deletable": false,
    "editable": false,
    "hidden": true,
    "run_control": {
     "frozen": true
    }
   },
   "source": [
    "Den ene teksten `input()` kan inneholde, er den såkalte **ledeteksten** som skal forklare brukeren hva slags input som forventes.\n",
    "Ledeteksten bør være presis så brukeren vet hva slags opplysning det er spurt om.  \n",
    "F.eks. er \"Oppgi vekt i kg: \" en bedre ledetekst enn bare \"Oppgi vekt: \", som igjen er mye bedre enn \"Skriv et tall: \" eller \"Gi input: \".\n",
    "Blankt tegn (mellomrom) bakerst i ledeteksten er ofte en fordel, ellers kommer brukerens input rett etter ledeteksten.  \n",
    "I det lille eksemplet over brukte vi ikke resultatet fra `input()`, men vanligvis ber vi brukeren om data fordi dataen trengs til noe.\n",
    "For noe litt mer nyttig, anta at vi ønsker å spørre brukeren om navn - og deretter benytte dette navnet i en påfølgende print-setning, så vi får en liten dialog mellom bruker og maskin:\n",
    "\n",
    "```\n",
    "Hei, hva heter du? Geralt  \n",
    "Geralt - det var et fint navn.  \n",
    ">>>\n",
    "```\n",
    "\n",
    "Her spør maskinen \"Hei, hva heter du?\", brukeren svarer \"Geralt\" og maskinen skriver \"Geralt - det var et fint navn.\"  \n",
    "Denne lille dialogen kan oppnås med følgende kodelinje:\n",
    "\n",
    "**Enkel dialog med bruker:**"
   ]
  },
  {
   "cell_type": "code",
   "execution_count": null,
   "metadata": {
    "hidden": true
   },
   "outputs": [],
   "source": [
    "print(input(\"Hei, hva heter du? \"), \"- det var et fint navn.\")"
   ]
  },
  {
   "attachments": {},
   "cell_type": "markdown",
   "metadata": {
    "deletable": false,
    "editable": false,
    "hidden": true,
    "run_control": {
     "frozen": true
    }
   },
   "source": [
    "Denne koden funker fordi parenteser alltid utføres innenfra og ut. Print-setningen kan ikke kjøres før man vet hva som skal printes,\n",
    "Derfor må input-setningen kjøres først, den gir som resultat det navnet brukeren skriver inn (f.eks. Geralt).  \n",
    "Dette navnet skrives deretter ut sammen med den påfølgende teksten \"- det var et fint navn.\")"
   ]
  },
  {
   "attachments": {},
   "cell_type": "markdown",
   "metadata": {
    "deletable": false,
    "editable": false,
    "run_control": {
     "frozen": true
    }
   },
   "source": [
    "## a) Simpel bruk av input direkte i print()-setning"
   ]
  },
  {
   "attachments": {},
   "cell_type": "markdown",
   "metadata": {
    "deletable": false,
    "editable": false,
    "run_control": {
     "frozen": true
    }
   },
   "source": [
    "Ta utgangspunkt i tutorial-koden nedenfor (og kjør den gjerne en gang for å se hvordan den virker; hvis du ikke forstår hvordan, les først tutorial):"
   ]
  },
  {
   "cell_type": "code",
   "execution_count": null,
   "metadata": {},
   "outputs": [],
   "source": [
    "print(input(\"Hei, hva heter du? \"), \"- kult navn!\")"
   ]
  },
  {
   "attachments": {},
   "cell_type": "markdown",
   "metadata": {
    "deletable": false,
    "editable": false,
    "run_control": {
     "frozen": true
    }
   },
   "source": [
    "Endre tekststrengene i denne kodelinjen så dialogen med brukeren i stedet blir som vist nedenfor. Maskinen skal alltid gjenta det navnet brukeren skrev, Geralt er bare et eksempel.\n",
    "```\n",
    "Navn? Geralt  \n",
    "Geralt - kult navn!\n",
    "```\n",
    "Legg så til en ny, lignende kodelinje som spør om brukerens favorittfag. Ved ferdig program skal dialogen se ut som nedenfor.  \n",
    "Utskriften til programmet skal selvsagt tilpasse seg det brukeren skriver inn som navn og favorittfag.\n",
    "```\n",
    "Navn? Yennefer\n",
    "Yennefer - kult navn!  \n",
    "favorittfag? KPR  \n",
    "KPR - interessant!\n",
    "```\n"
   ]
  },
  {
   "attachments": {},
   "cell_type": "markdown",
   "metadata": {
    "deletable": false,
    "editable": false,
    "run_control": {
     "frozen": true
    }
   },
   "source": [
    "## Tutorial del 2: variabler - grunnleggende intro"
   ]
  },
  {
   "attachments": {},
   "cell_type": "markdown",
   "metadata": {
    "deletable": false,
    "editable": false,
    "run_control": {
     "frozen": true
    }
   },
   "source": [
    "Hvorfor trenger vi variabler? Poenget med variabler er å **huske data underveis** i utførelsen av et program.\n",
    "\n",
    "Variablet er derfor et sentralt konsept i programmering, ikke bare i Python men uansett hva slags språk man programmerer i.\n",
    "\n",
    "Uten variabler støter vi fort på en rekke problemer fordi programmet vårt ikke kan huske noe, f.eks. at\n",
    "\n",
    "* vi må be brukeren gi inn opplysninger på nytt som brukeren har gitt tidligere\n",
    "* vi må regne ut på nytt data vi allerede har regnet ut tidligere\n",
    "\n",
    "Dette sløser tid og strøm og vil i mange tilfeller gjøre programmet fullstendig ubrukelig.\n",
    "\n",
    "I det lille eksempelprogrammet i tutorial del 1 klarte vi oss uten noen variabel, fordi navnet vi innhentet fra bruker kun ble benyttet én gang, og dette skjedde umiddelbart etter at det var tastet inn.\n",
    "\n",
    "  \n",
    "```python \n",
    "print(input(\"Hei, hva heter du? \"), \"- det var et fint navn.\") \n",
    "```\n",
    "\n",
    "  \n",
    "```\n",
    "Hei, hva heter du? Geralt  \n",
    "Geralt - det var et fint navn.  \n",
    ">>>>\n",
    "```\n",
    "\n",
    "Men ofte skal samme data brukes flere ganger, og etter at vi har gjort andre ting i mellomtiden. Da må data huskes i variable. Anta at vi ønsker en bare litt mer avansert dialog med brukeren:\n",
    "\n",
    " \n",
    "```\n",
    "Hei, hva heter du? Geralt  \n",
    "Geralt - det var et fint navn.  \n",
    "Lykke til med Python, Geralt!  \n",
    ">>>>\n",
    "```\n",
    "\n",
    "Her vil vi bruke det innleste navnet i to påfølgende print-setninger. Hvis vi prøver samme triks som tidligere med å sette input-setning direkte i print-setning, får vi koden:\n",
    "\n",
    " \n",
    "```python\n",
    "print(input(\"Hei, hva heter du? \"), \"- det var et fint navn.\")\n",
    "print(\"Lykke til med KPR,\", input(\"Hei, hva heter du?\")) \n",
    "```\n",
    "\n",
    "Kjøring viser hva som er dumt med denne koden, nemlig at spørsmålet \"Hei, hva heter du?\" kommer to ganger.\n",
    "\n",
    "\n",
    "```\n",
    "Hei, hva heter du? Geralt  \n",
    "Geralt - det var et fint navn.  \n",
    "Hei, hva heter du? Geralt  \n",
    "Lykke til med KPR, Geralt\n",
    "```\n",
    "\n",
    "Ikke noe katastrofalt problem her, men tenk deg et program hvor samme opplysning skal brukes 100 ganger eller mer i en kritisk arbeidsoppgave som haster.\n",
    "\n",
    "Kan vi løse det på en bedre måte? JA - med en variabel for å huske navnet. Koden blir da"
   ]
  },
  {
   "cell_type": "code",
   "execution_count": null,
   "metadata": {},
   "outputs": [],
   "source": [
    "navn = input(\"Hei, hva heter du?\" )\n",
    "print(navn, \"- det var et fint navn.\")\n",
    "print(\"Lykke til med KPR,\", navn)"
   ]
  },
  {
   "attachments": {},
   "cell_type": "markdown",
   "metadata": {
    "deletable": false,
    "editable": false,
    "run_control": {
     "frozen": true
    }
   },
   "source": [
    "Dette programmet kan forklares som følger:\n",
    "\n",
    "* linje 1, til høyre for `=` : bruker `input()` for å spørre hva brukeren heter\n",
    "* linje 1, til venstre for `=`: oppretter en variabel som heter `navn`.\n",
    "* linje 1, tegnet `=`. Dette er **tilordningsoperatoren**. Betyr at verdien av uttrykket på høyre side, resultatet av `input()`, blir husket i variabelen kalt `navn`. Hvis brukeren skriver Geralt, vil variabelen `navn` da inneholde strengen `'Geralt'`\n",
    "* linje 2, variabelen `navn` brukes fremst i print-setningen. Merk at variabelnavnet **ikke** skal ha fnutter rundt seg. Med fnuttter ville vi i stedet ha skrevet \"navn - det var et fint navn\". Ordet navn som står bakerst i setningen \"det var et fint navn.\" er ikke variabelen, her er ordet navn bare del av en tekststreng.\n",
    "* linje 3, variabelen `navn` brukes bakerst i print-setningen. Igjen uten fnutter; det er ikke ordet navn vi ønsker å skrive, men den tekststrengen som variabelen `navn` inneholder (f.eks. Geralt)\n",
    "\n",
    "Ved hjelp av variabelen som her ble kalt navn, unngår vi å stille samme spørsmål to ganger. Vi spør bare én gang, i starten av programmet, og husker da opplysningen brukeren gir oss ved å putte den inn i en variabel.\n",
    "\n",
    "Videre i programmet kan vi benytte denne variabelen hver gang vi trenger navnet - enten det som her var bare to ganger, eller om det hadde vært flere."
   ]
  },
  {
   "attachments": {},
   "cell_type": "markdown",
   "metadata": {
    "deletable": false,
    "editable": false,
    "run_control": {
     "frozen": true
    }
   },
   "source": [
    "##  b) Huske input i variable"
   ]
  },
  {
   "attachments": {},
   "cell_type": "markdown",
   "metadata": {
    "deletable": false,
    "editable": false,
    "run_control": {
     "frozen": true
    }
   },
   "source": [
    "Kjør koden under for å se hvordan den virker. Som du vil se, plager den brukeren med å gjenta begge spørsmålene to ganger.\n",
    "\n",
    "**Oppgaven din:** Forbedre koden ved å introdusere en variabel for navn og en annen variabel for favorittfag, slik at brukeren får hvert av spørsmålene bare en gang (dvs. spørres kun en gang om navn og kun en gang om favorittfag).\n",
    "\n",
    "Hvis du er i tvil om hvordan du skal angripe problemet, se lignende eksempel i tutorial like over."
   ]
  },
  {
   "cell_type": "code",
   "execution_count": null,
   "metadata": {},
   "outputs": [],
   "source": [
    "navn = input(\"Navn? \")\n",
    "print(\"Hei, \" , navn)\n",
    "favorittfag = input(\"Favorittfag?\")\n",
    "print(favorittfag , \"oi, interessant!\")\n",
    "print(\"Ha en fin dag,\", input(\"Navn? \"))\n",
    "print(\"- og lykke til med\", input(\"Favorittfag?\"))"
   ]
  },
  {
   "attachments": {},
   "cell_type": "markdown",
   "metadata": {
    "deletable": false,
    "editable": false,
    "run_control": {
     "frozen": true
    }
   },
   "source": [
    "Hvis du får til å bruke de to variablene som tenkt, skal kjøringen av det forbedrede programmet se slik ut (men også funke om brukeren skriver inn noe annet enn Yennefer på spørsmålet Navn? og noe annet enn KPR på Favorittfag?)\n",
    "\n",
    "```\n",
    "Navn? Yennefer  \n",
    "Hei, Yennefer  \n",
    "Favorittfag? KPR  \n",
    "KPR - interessant!  \n",
    "Ha en fin dag, Yennefer  \n",
    "- og lykke til med KPR\n",
    "```"
   ]
  },
  {
   "cell_type": "markdown",
   "metadata": {},
   "source": [
    "(Tutorial del 3 er valgfri i Oving1HiddenQuest3)"
   ]
  },
  {
   "attachments": {},
   "cell_type": "markdown",
   "metadata": {
    "deletable": false,
    "editable": false,
    "run_control": {
     "frozen": true
    }
   },
   "source": [
    "## Tutorial del 4: Navngiving av variable"
   ]
  },
  {
   "attachments": {},
   "cell_type": "markdown",
   "metadata": {
    "deletable": false,
    "editable": false,
    "run_control": {
     "frozen": true
    }
   },
   "source": [
    "En variabel er et navn som representerer en verdi som lagres i datamaskinens minne. Den vanligste måten å opprette en variabel på er ved en tilordningssetning:\n",
    "\n",
    "`variable = expression`\n",
    "\n",
    "I dette tilfellet er variable navnet til variabelen, mens expression er verdien. Noen regler for slike tilordningssetninger:\n",
    "\n",
    "* variabelen som opprettes skal alltid stå på venstre side av uttrykket, og venstre side skal kun inneholde denne variabelen, ikke noe annet\n",
    "* høyde side kan alt fra en enkelt verdi (f.eks. et tall) eller en enkelt variabel, til mer sammensatte uttrykk som må beregnes. Hvis høyre side inneholder variable, må dette være variable som allerede er opprettet tidligere i koden.\n",
    "* variabelnavnet må tilfredsstille følgende regler:\n",
    " * ord som er **reserverte ord** i Python, f.eks. `if`, `def`, eller som er navn på standardfunksjoner som `print`, `min`, `max`, ... bør unngås som varibelnavn\n",
    " * variabelnavn må begynne med en bokstav eller tegnet _ (understrek)\n",
    " * kan ellers inneholde bokstaver, tall og understrek, dvs. kan f.eks. ikke inneholde blanke tegn.\n",
    "* Python skiller mellom små og store bokstaver, så `Areal` og `areal` vil være to ulike variabler.\n",
    "\n",
    "Det anbefales å lage variabelnavn som er intuitivt forståelige, f.eks. er `areal` et bedre navn enn `x` på en variabel som inneholder et areal. Sammensatte variabelnavn skrives typisk som pukkelord (eng: camelCase) eller med understrek for å vise hvor ett ord slutter og det neste begynner, f.eks. `startTime`, `pricePerLiter` eller `start_time`, `price_per_liter`, siden direkte sammensetning uten noe som helst skille vil gi lange variabelnavn som blir vanskelige å lese. JonSynesCamelCaseErBest, men ulike kodespråk bruker ofte ulike standarder :)\n",
    "\n",
    "Kodeblokka under viser eksempler på variable som funker og ikke funker:"
   ]
  },
  {
   "cell_type": "code",
   "execution_count": null,
   "metadata": {},
   "outputs": [],
   "source": [
    "# Eksempel på tilordningssetninger som funker\n",
    "pokemon_name = \"Tyranitar\"\n",
    "MaxCP = 3670\n",
    "antall = 3\n",
    "antall = antall + 1      # høyre side regnes ut som 3+1, så 4 blir ny verdi i variabelen antall\n",
    "resists_fighting = False\n",
    "level42 = \"to be done\"   # tall er OK i variabelnavn unntatt helt fremst\n",
    "  \n",
    "# Eksempel på tilordninger som IKKE funker\n",
    "1 = antall              # variabelen må stå på venstre side\n",
    "antall + 1 = antall     # og v.s. kan KUN inneholde et variabelnavn, ikke et større uttrykk\n",
    "10kamp = \"gøy\"          # variabel kan ikke begynne med tall, kun bokstav eller _\n",
    "antall = 3              # denne er OK, men se neste linje\n",
    "antall = Antall + 1     # Python skiller mellom store og små bokstaver, Antall vil være en annen\n",
    "def = 5                 # Python inneholder \"reserverte ord\". Her er \"def\" reservert, og kan ikke brukes som variabel\n",
    "                        # variabel og gir NameError her fordi den ikke er opprettet i en tidligere setning\n",
    "happy hour = 20         # navn kan ikke inneholde mellomrom, burde vært happy_hour eller happyHour\n",
    "alkohol% = 4.5          # % kan ikke brukes i variabelnavn (betyr modulo). Samme gjelder andre spesialtegn,\n",
    "                        # hold deg til vanlige bokstaver og tall"
   ]
  },
  {
   "attachments": {},
   "cell_type": "markdown",
   "metadata": {
    "deletable": false,
    "editable": false,
    "run_control": {
     "frozen": true
    }
   },
   "source": [
    "## d) Variabelnavn"
   ]
  },
  {
   "attachments": {},
   "cell_type": "markdown",
   "metadata": {
    "deletable": false,
    "editable": false,
    "run_control": {
     "frozen": true
    }
   },
   "source": [
    "Prøv å kjør koden under. Som du vil se, funker den ikke pga. diverse feil med variabelnavn og tilordningssetninger. Fiks feilene så programmet kjører som det skal."
   ]
  },
  {
   "cell_type": "code",
   "execution_count": null,
   "metadata": {},
   "outputs": [],
   "source": [
    "for navn == \"Per\"\n",
    "ideal+alder = 42\n",
    "1kundensAlder==37\n",
    "def = ideal+alder - 1kundensAlder\n",
    "\n",
    "print(for navn, \"er\", def, \"år unna idealalderen\")"
   ]
  },
  {
   "attachments": {},
   "cell_type": "markdown",
   "metadata": {
    "deletable": false,
    "editable": false,
    "run_control": {
     "frozen": true
    }
   },
   "source": [
    "## e) Variabel-program"
   ]
  },
  {
   "attachments": {},
   "cell_type": "markdown",
   "metadata": {
    "deletable": false,
    "editable": false,
    "run_control": {
     "frozen": true
    }
   },
   "source": [
    "Lag et program i kodeblokka under som først lagrer navnet ditt i en variabel og alderen din i en annen variabel, for så å printe det ut med `print()`-funksjonen. Her trenger du altså ikke å bruke `input()`-funksjonen!\n",
    "\n",
    "Eksempel på kjøring:\n",
    "```\n",
    "Jeg heter Geralt of Rivia, og er 98 år.\n",
    "```\n",
    "\n",
    "***Skriv koden din i blokka under.***"
   ]
  },
  {
   "cell_type": "code",
   "execution_count": null,
   "metadata": {},
   "outputs": [],
   "source": []
  }
 ],
 "metadata": {
  "kernelspec": {
   "display_name": "Python 3",
   "language": "python",
   "name": "python3"
  },
  "language_info": {
   "codemirror_mode": {
    "name": "ipython",
    "version": 3
   },
   "file_extension": ".py",
   "mimetype": "text/x-python",
   "name": "python",
   "nbconvert_exporter": "python",
   "pygments_lexer": "ipython3",
   "version": "3.11.9"
  },
  "toc": {
   "base_numbering": 1,
   "nav_menu": {},
   "number_sections": false,
   "sideBar": true,
   "skip_h1_title": false,
   "title_cell": "Table of Contents",
   "title_sidebar": "Contents",
   "toc_cell": false,
   "toc_position": {},
   "toc_section_display": true,
   "toc_window_display": false
  }
 },
 "nbformat": 4,
 "nbformat_minor": 2
}
