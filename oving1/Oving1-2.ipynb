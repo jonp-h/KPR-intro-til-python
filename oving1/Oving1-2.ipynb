{
 "cells": [
  {
   "attachments": {},
   "cell_type": "markdown",
   "metadata": {
    "deletable": false,
    "editable": false,
    "run_control": {
     "frozen": true
    }
   },
   "source": [
    "\n",
    "# Kalkulasjoner\n",
    "\n",
    "**Læringsmål**:\n",
    "\n",
    "* Basisferdigheter, sekvensiell programmering\n",
    "\n",
    "* Utføre enkle kalkulasjoner\n",
    "\n",
    "I denne oppgaven skal du lære hvordan du skriver matematiske uttrykk for å gjøre utregninger i Python."
   ]
  },
  {
   "cell_type": "markdown",
   "metadata": {},
   "source": [
    "# ⚠️⚠️⚠️\n",
    "#### **I denne øvingen er det mye tekst!!** Det er ikke nødvendig å lese all teksten i øvingen for å forstå oppgavene. Gjerne hopp direkte til kodeblokkene og prøv deg på oppgavene. Får du det ikke til kan du se nærmere på teksten på siden\n",
    "# ⚠️⚠️⚠️"
   ]
  },
  {
   "attachments": {},
   "cell_type": "markdown",
   "metadata": {
    "deletable": false,
    "editable": false,
    "heading_collapsed": true,
    "run_control": {
     "frozen": true
    },
    "solution": "hidden"
   },
   "source": [
    "### Tutorial - Matteoperasjoner del 1: Vanlige operatorer, parenteser, presedens"
   ]
  },
  {
   "attachments": {},
   "cell_type": "markdown",
   "metadata": {
    "deletable": false,
    "editable": false,
    "hidden": true,
    "run_control": {
     "frozen": true
    }
   },
   "source": [
    "Det er mange likheter mellom Python og vanlig matematisk skrivemåte av aritmetiske uttrykk, men også noen forskjeller.\n",
    "\n",
    "Tabellen under oppsummerer det mest grunnleggende:\n",
    "    \n",
    "Matematikk | Python | Merknad\n",
    "--- | --- | ---\n",
    "a + b | a + b | Det er vanlig å sette et mellomrom på hver side av + men ikke påkrevd. <br> Kunne også ha skrevet a+b. Samme gjelder for andre regneoperatorer. <br> Smak og behag, men litt luft gjør ofte uttrykk lettere å lese.\n",
    "a - b | a - b | Bruk det vanlige bindestrek-tegnet for minus\n",
    "a · b |a * b| Bruk stjerntegn (asterisk) for multiplikasjon\n",
    "ab|<span style=\"color:red\">**NEI**</span>| I Python må gangetegn **alltid** skrives eksplisitt, kan ikke utelates\n",
    "a : b|a / b|Vanlig skråstrek brukes for divisjon, **ikke** kolon eller horsintal brøkstrek.\n",
    "a<sup>b</sup>|a ** b| Dobbel stjerne for potens. De to stjernene må stå kloss inntil hverandre.\n",
    "[(a + b) * c - d]|((a + b) * c - d)|I matematisk notasjon brukes av og til ulike parentessymboler () [] {} <br> hvis det er uttrykk med flere nivåer av parenteser nøstet inn i hverandre. <br> I Python må vanlig parentes () brukes for **alle** nivåer. [] og {} har en annen betydning.\n",
    "\n",
    "**Presedens** mellom operatorer fungerer som i matematikken.\n",
    "\n",
    "* Multiplikasjon og divisjon har høyere presedens enn addisjon og subtraksjon.\n",
    " * 3 + 2 * 5 blir 13, fordi * gjøres før +.\n",
    " * 5 - 1 / 2 blir 4.5, fordi / gjøres før -.\n",
    "* Potens har høyere presedens enn multiplikasjon og divisjon.\n",
    " * 5 * 2 ** 3 blir 40, fordi ** gjøres før *.\n",
    "* Parenteser kan brukes for å få en annen rekkefølge på regneoperasjonene:\n",
    " * (3 + 2) * 5 blir 25, fordi + gjøres før *.\n",
    " * (5 - 1) / 2 blir 2, fordi - gjøres før /.\n",
    " * (5 * 2) ** 3 blir 343, fordi * nå gjøres før **.\n",
    "* Hvis du skal \"oversette\" et matematisk uttrykk med parenteser til Python, bruk parenteser på samme sted også i Python-koden.\n",
    "\n",
    "**I noen tilfeller kan du trenge ekstra parenteser i Python-koden som ikke var i det matematiske uttrykket. F.eks.:** \n",
    "\n",
    " $$\\frac{2-x}{2+x}$$  \n",
    "\n",
    "Horisontal brøkstrek viser tydelig at hele 2-x er teller og hele 3+x nevner. Med Pythons skråstrek for divisjon må man bruke parenteser her: (2 - x) / (3 + x)\n",
    "\n",
    " $$3^{xy+1}$$\n",
    "\n",
    "Opphøyet skrift viser at hele xy+1 er potensen. I Python må man skrive 3 ** (x * y + 1)."
   ]
  },
  {
   "attachments": {},
   "cell_type": "markdown",
   "metadata": {
    "deletable": false,
    "editable": false,
    "run_control": {
     "frozen": true
    }
   },
   "source": [
    "### a) Korrekt programmering av aritmetiske utrykk"
   ]
  },
  {
   "attachments": {},
   "cell_type": "markdown",
   "metadata": {
    "deletable": false,
    "editable": false,
    "run_control": {
     "frozen": true
    }
   },
   "source": [
    "Fyll inn riktig Python-kode i stedet for `None` på samme måte som vist i de tre øverste linjene,\n",
    "\n",
    "Kjør deretter programmet for å se at det virker (kjør gjerne hver gang du har fullført en ny linje, så du får testet en og en)."
   ]
  },
  {
   "cell_type": "code",
   "execution_count": null,
   "metadata": {},
   "outputs": [],
   "source": [
    "print('1+2(-3) =', 1 + 2 * (-3))\n",
    "print('[(3+5·2) + 1] : 2 =', ((3 + 5 * 2) + 1) / 2)\n",
    "print('-3^2+5*3-7 =', -3**2 + 5 * 3 - 7)\n",
    "#1)\n",
    "print('5:2-4 =', None)\n",
    "#2)\n",
    "print('5·12+6-1 =', None)\n",
    "#3)\n",
    "print('3(5+2) =', None)\n",
    "#4)\n",
    "print('4[(5+3):2 +7] =', None)\n",
    "#5)\n",
    "print('(-4)^(-3)+5·(3-7:2) =', None)"
   ]
  },
  {
   "attachments": {},
   "cell_type": "markdown",
   "metadata": {
    "deletable": false,
    "editable": false,
    "run_control": {
     "frozen": true
    }
   },
   "source": [
    "Hvis du har fått det til riktig, skal utskrift til skjerm ved kjøring av programmet bli:\n",
    "\n",
    "**Utskrift til skjerm:**\n",
    "```python\n",
    "1+2(-3) = -5\n",
    "[(3+5· 2)+1]:2 = 7.0\n",
    "-3^2 + 5*3 - 7 = -1\n",
    "5:2-4 = -1.5\n",
    "5· 12+6-1 = 65\n",
    "3(5+2) = 21\n",
    "4[(5+3):2 +7] = 44.0\n",
    "(-4)^(-3)+5·(3-7:2) = -2.515625\n",
    "```"
   ]
  },
  {
   "attachments": {},
   "cell_type": "markdown",
   "metadata": {
    "deletable": false,
    "editable": false,
    "heading_collapsed": true,
    "run_control": {
     "frozen": true
    },
    "solution": "hidden"
   },
   "source": [
    "### Tutorial - Matteoperasjoner del 2: Heltallsdivisjon og Modulo:"
   ]
  },
  {
   "attachments": {},
   "cell_type": "markdown",
   "metadata": {
    "deletable": false,
    "editable": false,
    "hidden": true,
    "run_control": {
     "frozen": true
    }
   },
   "source": [
    "I tillegg til vanlig divisjon / har Python også heltallsdivisjon som skrives // og modulo som skrives med operatoren %.\n",
    "\n",
    "Heltallsdivisjon og modulo minner om måten du lærte divisjon på barneskolen før du hadde lært desimaltall, altså med hele tall og rest.\n",
    "\n",
    "Tabellen under illustrerer hvordan disse operatorene virker:\n",
    "\n",
    "**Utrykk i Python**|**Resultat**|**Forklaring**\n",
    "---|---|---\n",
    "17 / 5\t|3.4\t|Vanlig divisjon\n",
    "17 // 5|\t3\t|Heltallsdivisjon, gir hvor mange hele ganger nevneren 5 går opp i telleren 17\n",
    "17 % 5\t|2|\tModulo, gir resten av 17 // 5, dvs. de 2 som blir til over\n",
    "7.75 / 2.5\t|3.1|\tVanlig divisjon\n",
    "7.75 // 2.5\t|3.0|\tHeltallsdivisjon, gir hvor mange hele ganger nevneren 2.5 går opp i 7.75.<br> Her blir svaret et flyttall (3.0) heller enn heltallet 3, fordi teller og nevner er flyttall.\n",
    "7.75 % 2.5\t|0.25|\tModulo, Resten av 7.75//2.5 er 0.25 fordi 2.5 * 3.0 er 7.5\n",
    "\n",
    "Heltallsdivisjon og modulo har en rekke nyttige bruksområder i programmering.\n",
    "\n",
    "Ett eksempel er regning med enheter som aggregeres på andre måter enn det typiske 10, 100, 1000, slik som 60 sekund per minutt, 60 minutt per time, 24 timer per døgn, 7 døgn per uke.\n",
    "\n",
    "Koden under viser hvordan // og % kan brukes til slike beregninger. Prøv å kjør den."
   ]
  },
  {
   "cell_type": "code",
   "execution_count": null,
   "metadata": {
    "hidden": true
   },
   "outputs": [],
   "source": [
    "print(215, \"sekund blir\", 215 // 60, \"minutt og\", 215 % 60, \"sekund.\")\n",
    "print(53, \"dager blir\", 53 // 7, \"uker og\", 53 % 7, \"dager\")"
   ]
  },
  {
   "attachments": {},
   "cell_type": "markdown",
   "metadata": {
    "ExecuteTime": {
     "end_time": "2019-07-01T09:01:23.971652Z",
     "start_time": "2019-07-01T09:01:23.962336Z"
    },
    "deletable": false,
    "editable": false,
    "hidden": true,
    "run_control": {
     "frozen": true
    }
   },
   "source": [
    "Det fins også mange andre nyttige anvendelser av // og %, som vil vise seg etter hvert som vi kommer til mer avanserte problemer."
   ]
  },
  {
   "attachments": {},
   "cell_type": "markdown",
   "metadata": {
    "deletable": false,
    "editable": false,
    "run_control": {
     "frozen": true
    }
   },
   "source": [
    "### b) Bruk av heltallsdivisjon og modulo\n",
    "\n",
    "Erstatt ordet **None** i print-setningene i linje 2, 3 og 4 med uttrykk med // og % på tilsvarende måte  som i linje 1, så påstandene blir riktige."
   ]
  },
  {
   "cell_type": "code",
   "execution_count": null,
   "metadata": {},
   "outputs": [],
   "source": [
    "print(355, \"minutt blir\", 355 // 60, \"timer og\", 355 % 60, \"minutt.\")\n",
    "print(403, \"sekund blir\", None, \"minutt og\", None, \"sekund.\")\n",
    "print(67, \"dager blir\", None, \"uker og\", None, \"dager.\")\n",
    "print(100, \"timer blir\", None, \"døgn og\", None, \"timer.\")"
   ]
  },
  {
   "attachments": {},
   "cell_type": "markdown",
   "metadata": {
    "deletable": false,
    "editable": false,
    "run_control": {
     "frozen": true
    }
   },
   "source": [
    "**Riktig utskrift hvis du har fått det til, skal bli**\n",
    "```\n",
    "355 minutt blir 5 timer og 55 minutt.  \n",
    "403 sekund blir 6 minutt og 43 sekund.  \n",
    "67 dager blir 9 uker og 4 dager.  \n",
    "100 timer blir 4 døgn og 4 timer.\n",
    "```"
   ]
  },
  {
   "attachments": {},
   "cell_type": "markdown",
   "metadata": {
    "deletable": false,
    "editable": false,
    "heading_collapsed": true,
    "run_control": {
     "frozen": true
    },
    "solution": "hidden"
   },
   "source": [
    "### Tutorial - Matteoperasjoner del 3: Innebygde funksjoner og konstanter"
   ]
  },
  {
   "attachments": {},
   "cell_type": "markdown",
   "metadata": {
    "deletable": false,
    "editable": false,
    "hidden": true,
    "run_control": {
     "frozen": true
    }
   },
   "source": [
    "Python har en rekke innebygde funksjoner. Vi kan skille mellom\n",
    "\n",
    "* funksjoner i **standardbiblioteket**. Disse er alltid tilgjengelige og kan dermed brukes uten videre.\n",
    "* funksjoner i **andre biblioteker**. For å kunne bruke slike funksjoner må vi importere det aktuelle biblioteket i starten av programmet.\n",
    "\n",
    "En fullstendig liste over funksjoner i standardbiblioteket fins [her](https://docs.python.org/3/library/functions.html).\n",
    "\n",
    "Noen standardfunksjoner som inngår i ulike oppgaver i perioden her, er: print(), input(), str(), int(), float().\n",
    "\n",
    " Spesielt relatert til matematikk fins dessuten **abs()** for absoluttverdi og **round()** for avrunding i standardbiblioteket.\n",
    "\n",
    "Kodeblokken under viser bruk av noen standardfunksjoner:\n",
    "\n",
    "**Standardfunksjoner**"
   ]
  },
  {
   "cell_type": "code",
   "execution_count": null,
   "metadata": {
    "hidden": true
   },
   "outputs": [],
   "source": [
    "print(\"Standardfunksjoner kan brukes direkte.\")\n",
    "print(\"Funksjonen print() viser info på skjermen.\")\n",
    "print(\"|-3|, dvs. absoluttverdien til -3, er\", abs(-3) )\n",
    "print(4.75, \"avrundet til helt tall er\", round(4.75) )\n",
    "print(4.75, \"avrundet til én desimal er\", round(4.75, 1) )"
   ]
  },
  {
   "attachments": {},
   "cell_type": "markdown",
   "metadata": {
    "deletable": false,
    "editable": false,
    "hidden": true,
    "run_control": {
     "frozen": true
    }
   },
   "source": [
    "Noen andre biblioteker som man vil komme borti i dette faget:\n",
    "\n",
    "* **math** som inneholder en rekke matematiske funksjoner, som f.eks. sin(), cos(), tan(), sqrt(), log(), gcd(), factorial(), samt noen vanlige matematiske konstanter som pi og e.\n",
    "* **random**. som inneholder funksjoner for å generere tilfeldige tall, f.eks. random() som gir et tilfeldig tall mellom 0 og 1, og randint(a, b) for tilfeldige heltall a <= x <= b.\n",
    "* **turtle**, som inneholder funksjoner for å tegne enkle grafiske figurer på skjermen, f.eks. circle() for å tegne en sirkel. \n",
    "**NB!** Kan ikke brukes med Jupyter.\n",
    "\n",
    "Kodeblokken under viser bruk av noen funksjoner og konstanter fra math-biblioteket.\n",
    "\n",
    "**Math-funksjoner**"
   ]
  },
  {
   "cell_type": "code",
   "execution_count": null,
   "metadata": {
    "hidden": true
   },
   "outputs": [],
   "source": [
    "import math\n",
    "\n",
    "print(\"Kvadratroten til 8 er\", math.sqrt(8) )\n",
    "print(\"Sinus til 2 er\", math.sin(2) )\n",
    "print(\"Største felles faktor for 18 og 12 er\", math.gcd(18, 12) )\n",
    "print(\"Konstantene pi og e er lagret i Python som hhv.\", math.pi, \"og\", math.e)\n",
    "print(\"Har også konstanten tau som tilsvarer 2*pi:\", math.tau)\n",
    "print(\"En sirkel med radius 4 har areal\", math.pi * 4**2, \"og omkrets\", math.tau * 4)"
   ]
  },
  {
   "attachments": {},
   "cell_type": "markdown",
   "metadata": {
    "deletable": false,
    "editable": false,
    "hidden": true,
    "run_control": {
     "frozen": true
    }
   },
   "source": [
    "Til forskjell fra standardbiblioteket må math-biblioteket importeres, jfr. setningen import math\n",
    "\n",
    "Hver funksjon fra math-biblioteket er også prefikset med ordet math. i kodeeksemplet over.\n",
    "\n",
    "Hvis du ønsker å slippe det gjentatte prefikset math foran funksjonsnavn, kan alternativ importsetning brukes:\n",
    "\n",
    "**Alternativ import**"
   ]
  },
  {
   "cell_type": "code",
   "execution_count": null,
   "metadata": {
    "ExecuteTime": {
     "end_time": "2019-07-01T09:14:10.412403Z",
     "start_time": "2019-07-01T09:14:10.400269Z"
    },
    "hidden": true
   },
   "outputs": [],
   "source": [
    "from math import sqrt, sin, gcd, cos, pi, e, tau\n",
    "\n",
    "print(\"Kvadratroten til 8 er\", sqrt(8) )\n",
    "print(\"Sinus til 2 er\", sin(2) )\n",
    "print(\"Største felles faktor for 18 og 12 er\", gcd(18, 12) )\n",
    "print(\"Konstantene pi og e er lagret i Python som hhv.\", pi, \"og\", e)\n",
    "print(\"Har også konstanten tau som tilsvarer 2*pi:\", tau)\n",
    "print(\"En sirkel med radius 4 har areal\", pi * 4**2, \"og omkrets\", tau * 4)"
   ]
  },
  {
   "attachments": {},
   "cell_type": "markdown",
   "metadata": {
    "deletable": false,
    "editable": false,
    "hidden": true,
    "run_control": {
     "frozen": true
    }
   },
   "source": [
    "Et enda latere alternativ er å skrive  **from math import &ast;**  i første linje over, der `*` betyr da \"alt mulig\". Da slipper du å liste opp sqrt, sin, ... Ulempen vil være at du i så fall importerer alt som fins i math-biblioteket, ikke bare de få funksjonene og konstantene du faktisk bruker. I profesjonelle programmer hvor hurtighet og ryddighet vil være viktig, er det derfor ikke anbefalt å bruke **from ... import &ast;** , men det kan være greit i små eksempler."
   ]
  },
  {
   "attachments": {},
   "cell_type": "markdown",
   "metadata": {
    "deletable": false,
    "editable": false,
    "run_control": {
     "frozen": true
    }
   },
   "source": [
    "### c) Bruk av innebygde funksjoner og konstanter\n",
    "\n",
    "Se på koden i blokken under. Legg til en passende import-setning øverst i programmet i stedet for `Import None`\n",
    "\n",
    "Bytt ut alle forekomster av **None** med bruk av innebygde funksjoner og konstanter fra standardbiblioteket og math-biblioteket, slik at svarene blir riktige.\n",
    "\n",
    "Dvs., der det nå står None skal det fylles inn en eller annen funksjon eller matematisk uttrykk tilsvarende det som allerede er gjort i print-setning nr 3.\n",
    "\n",
    "Hvis du er usikker på hvilke funksjoner og konstanter det er lurt å bruke, ta først en kikk på teksten like foran deloppgaven."
   ]
  },
  {
   "cell_type": "code",
   "execution_count": null,
   "metadata": {},
   "outputs": [],
   "source": [
    "\n",
    "# her må du importere noe\n",
    "\n",
    "# I de 4 neste linjene trenger du bare funksjoner fra standardbiblioteket\n",
    "print(\"|-8|, dvs. absoluttverdien til -8, er\", abs(-8))\n",
    "print(2.544, \"avrundet til helt tall er\", None(2.544))\n",
    "print(\"Funksjonen int() derimot bare kutter vekk desimalene:\", None(2.544) )\n",
    "print(2.544, \"avrundet til to desimaler er\", None(2.544, 2))\n",
    "\n",
    "# I de 3 neste linjene trenger du math-biblioteket\n",
    "print(\"Kvadratroten til\", 10, \"er\", None(10))\n",
    "print(\"En sirkel med radius 7 har omkrets\", None * 7)\n",
    "print(\"En sirkel med radius 7 har areal\", None * 7**2)"
   ]
  },
  {
   "attachments": {},
   "cell_type": "markdown",
   "metadata": {
    "deletable": false,
    "editable": false,
    "run_control": {
     "frozen": true
    }
   },
   "source": [
    "**Utskrift til skjerm**\n",
    "``` \n",
    "|-8|, dvs. absoluttverdien til -8, er 8 \n",
    "2.544 avrundet til helt tall er 3 \n",
    "Funksjonen int() derimot bare kutter vekk desimalene: 2 \n",
    "2.544 avrundet til to desimaler er 2.54 \n",
    "Kvadratroten til 10 er 3.1622776601683795 \n",
    "En sirkel med radius 7 har omkrets 43.982297150257104 \n",
    "En sirkel med radius 7 har areal 153.93804002589985\n",
    "```"
   ]
  }
 ],
 "metadata": {
  "kernelspec": {
   "display_name": "Python 3",
   "language": "python",
   "name": "python3"
  },
  "language_info": {
   "codemirror_mode": {
    "name": "ipython",
    "version": 3
   },
   "file_extension": ".py",
   "mimetype": "text/x-python",
   "name": "python",
   "nbconvert_exporter": "python",
   "pygments_lexer": "ipython3",
   "version": "3.11.9"
  },
  "toc": {
   "base_numbering": 1,
   "nav_menu": {},
   "number_sections": false,
   "sideBar": true,
   "skip_h1_title": false,
   "title_cell": "Table of Contents",
   "title_sidebar": "Contents",
   "toc_cell": false,
   "toc_position": {},
   "toc_section_display": true,
   "toc_window_display": false
  }
 },
 "nbformat": 4,
 "nbformat_minor": 2
}
