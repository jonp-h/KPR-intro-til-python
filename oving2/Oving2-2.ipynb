{
 "cells": [
  {
   "attachments": {},
   "cell_type": "markdown",
   "metadata": {
    "deletable": false,
    "editable": false,
    "run_control": {
     "frozen": true
    }
   },
   "source": [
    "# Sammenligning av strenger\n",
    "\n",
    "**Læringsmål:**\n",
    "- Betingelser\n",
    "- Kodeforståelse"
   ]
  },
  {
   "attachments": {},
   "cell_type": "markdown",
   "metadata": {
    "deletable": false,
    "editable": false,
    "heading_collapsed": true,
    "run_control": {
     "frozen": true
    }
   },
   "source": [
    "## Generelt om sammenligning av strenger"
   ]
  },
  {
   "attachments": {},
   "cell_type": "markdown",
   "metadata": {
    "deletable": false,
    "editable": false,
    "hidden": true,
    "run_control": {
     "frozen": true
    }
   },
   "source": [
    "\n",
    "Når man sammenligner to strenger i Python vil strengene sammenlignes karakter for karakter. F.eks. vil et program som sammenligner strengene `\"Ola\"` og `\"Ole\"` og sjekker om de er like, først sammenligne `'O'` mot `'O'`, så `'l'` mot `'l'`, og til slutt `'a'` mot `'e'`. Det er først ved sammenligningen av `'a'` mot `'e'` at det vil bli returnert `False`."
   ]
  },
  {
   "cell_type": "code",
   "execution_count": null,
   "metadata": {
    "ExecuteTime": {
     "end_time": "2019-07-01T13:28:36.030253Z",
     "start_time": "2019-07-01T13:28:36.020435Z"
    },
    "hidden": true
   },
   "outputs": [],
   "source": [
    "a = \"Ola\"\n",
    "b = \"Ole\"\n",
    "  \n",
    "print(\"Sammenligner\", a, \"og\", b)\n",
    "if a == b:\n",
    "    print(\"Navnene er like\")\n",
    "else:\n",
    "    print(\"Navnene er IKKE like\")"
   ]
  },
  {
   "attachments": {},
   "cell_type": "markdown",
   "metadata": {
    "deletable": false,
    "editable": false,
    "hidden": true,
    "run_control": {
     "frozen": true
    }
   },
   "source": [
    "Om man derimot sammenligner navnene Markus og Marcus, vil testen av betingelsen returnere `False` når `'k'` blir sammenlignet med `'c'`. Det betyr at `'u'`  mot `'u'` og `'s'` mot `'s'` ikke blir sjekket."
   ]
  },
  {
   "cell_type": "code",
   "execution_count": null,
   "metadata": {
    "ExecuteTime": {
     "end_time": "2019-07-01T13:30:06.268914Z",
     "start_time": "2019-07-01T13:30:06.261563Z"
    },
    "hidden": true
   },
   "outputs": [],
   "source": [
    "a = \"Markus\"\n",
    "b = \"Marcus\"\n",
    "  \n",
    "print(\"Sammenligner\", a, \"og\", b)\n",
    "if a == b:\n",
    "    print(\"Navnene er like\")\n",
    "else:\n",
    "    print(\"Navnene er IKKE like\")"
   ]
  },
  {
   "attachments": {},
   "cell_type": "markdown",
   "metadata": {
    "deletable": false,
    "editable": false,
    "hidden": true,
    "run_control": {
     "frozen": true
    }
   },
   "source": [
    "Prøv gjerne ut koden over med andre verdier selv. Andre eksempler på kjøring kan være:\n",
    "```python\n",
    "# a = \"Ann\", b = \"Anne\"\n",
    "Sammenligner Ann og Anne\n",
    "Navnene er IKKE like\n",
    "```\n",
    "```python  \n",
    "# a = \"Anders\", b = \"Anders\"\n",
    "Sammenligner Anders og Anders\n",
    "Navnene er like\n",
    "```\n",
    "  \n",
    "```python\n",
    "# a = \"Anders\", b = \"anders\"\n",
    "Sammenligner Anders og anders\n",
    "Navnene er IKKE like\n",
    "```\n",
    "\n",
    "Som du ser i siste kjøring, skiller Python mellom store og små bokstaver, og en stor A er ikke det samme som en liten a. Dette kommer av at tegnene i strengene lagres som tall, og det er disse tallene som sammenlignes. I ASCII er karakterene A til Z representert med tallene 65 til 90, og karakterene a til z er representert med tallene 97 til 122."
   ]
  },
  {
   "attachments": {},
   "cell_type": "markdown",
   "metadata": {
    "deletable": false,
    "editable": false,
    "run_control": {
     "frozen": true
    }
   },
   "source": [
    "## a)"
   ]
  },
  {
   "attachments": {},
   "cell_type": "markdown",
   "metadata": {
    "deletable": false,
    "editable": false,
    "run_control": {
     "frozen": true
    }
   },
   "source": [
    "Du skal nå lage et program som sammenligner to matvarer, og sjekker om de er like. Det skal ikke spille noen rolle om matvarenavnene som sendes inn har store eller små bokstaver, dvs. at `\"druer\"` og `\"DrUer\"` skal regnes som like matvarer (se Hint). Det trengs ikke å ta hensyn til entall og flertall, dvs. at `\"druer\"` og `\"drue\"` regnes som to forskjellige matvarer.\n",
    "\n",
    "**Eksempel på kjøring:**\n",
    "\n",
    "```\n",
    "Sammenligner druer og DrUer\n",
    "Det er samme matvare\n",
    "```\n",
    "\n",
    "```\n",
    "Sammenligner druer og drue\n",
    "Dette er to forskjellige matvarer\n",
    "```\n",
    "\n",
    "```\n",
    "Sammenligner TomAT og ToMat\n",
    "Det er samme matvare\n",
    "```  \n",
    "\n",
    "```\n",
    "Sammenligner tomat og potet\n",
    "Dette er to forskjellige matvarer\n",
    "```\n",
    "\n",
    "___Skriv din kode her:___"
   ]
  },
  {
   "cell_type": "code",
   "execution_count": null,
   "metadata": {},
   "outputs": [],
   "source": []
  },
  {
   "attachments": {},
   "cell_type": "markdown",
   "metadata": {
    "ExecuteTime": {
     "end_time": "2019-07-01T13:52:20.851486Z",
     "start_time": "2019-07-01T13:52:20.846135Z"
    },
    "deletable": false,
    "editable": false,
    "heading_collapsed": true,
    "run_control": {
     "frozen": true
    }
   },
   "source": [
    "#### Hint"
   ]
  },
  {
   "attachments": {},
   "cell_type": "markdown",
   "metadata": {
    "deletable": false,
    "editable": false,
    "hidden": true,
    "run_control": {
     "frozen": true
    }
   },
   "source": [
    "`str.lower()` returnerer en kopi av strengen bestående av små bokstaver.\n",
    "\n",
    "Dvs., om du har en variabel `a = \"DrUer\"`, vil `a.lower()` gi strengen `\"druer\"`. Men husk, `a.lower()` endrer ikke på variabelen `a`, så man må enten lage en ny variabel `b = a.lower()` og bruke variabelen `b` i sjekken, eller så kan man bruke `a.lower()` direkte i sjekken i stedet for `a`.\n",
    "\n",
    "Eksempel som viser bruk av `str.lower()`:"
   ]
  },
  {
   "cell_type": "code",
   "execution_count": null,
   "metadata": {
    "hidden": true
   },
   "outputs": [],
   "source": [
    "a = \"DrUer\"\n",
    "  \n",
    "print(a)        #Output: \"DrUer\"\n",
    "a.lower()       #retunerer strengen \"druer\", men endrer ikke på variabelen a\n",
    "print(a)        #Output: \"DrUer\"\n",
    "print(a.lower())    #Output: \"druer\""
   ]
  },
  {
   "attachments": {},
   "cell_type": "markdown",
   "metadata": {
    "deletable": false,
    "editable": false,
    "heading_collapsed": true,
    "run_control": {
     "frozen": true
    }
   },
   "source": [
    "#### Fremgangsmåte"
   ]
  },
  {
   "attachments": {},
   "cell_type": "markdown",
   "metadata": {
    "deletable": false,
    "editable": false,
    "hidden": true,
    "run_control": {
     "frozen": true
    }
   },
   "source": [
    "1. Lag to variabler (`a` og `b`) som representerer hver sin streng.\n",
    "2. Skriv hvilke variabler du sammenligner ut til skjerm.\n",
    "3. Bruk en if-else-setning med betingelsen `a.lower() == b.lower()` for å sammenligne strengene, og skriv ut om det er samme vare eller to forskjellige varer til skjerm."
   ]
  },
  {
   "attachments": {},
   "cell_type": "markdown",
   "metadata": {
    "deletable": false,
    "editable": false,
    "run_control": {
     "frozen": true
    }
   },
   "source": [
    "## b)"
   ]
  },
  {
   "attachments": {},
   "cell_type": "markdown",
   "metadata": {
    "deletable": false,
    "editable": false,
    "run_control": {
     "frozen": true
    }
   },
   "source": [
    "I denne oppgaven skal du lage et program som tar inn to navn og sorterer dem i alfabetisk rekkefølge. Du trenger ikke ta hensyn til små og store bokstaver i denne oppgaven.\n",
    "\n",
    "**Eksempel på kjøring:**\n",
    "```\n",
    "Første navn: Ole\n",
    "Andre navn: Ola\n",
    "Under følger navnene i alfabetisk rekkefølge:\n",
    "Ola\n",
    "Ole\n",
    "```\n",
    "\n",
    "```\n",
    "Første navn: Bob Bernt\n",
    "Andre navn: Bob Arne\n",
    "Under følger navnene i alfabetisk rekkefølge:\n",
    "Bob Arne\n",
    "Bob Bernt\n",
    "```\n",
    "\n",
    "___Skriv din kode her:___"
   ]
  },
  {
   "cell_type": "code",
   "execution_count": null,
   "metadata": {},
   "outputs": [],
   "source": []
  },
  {
   "attachments": {},
   "cell_type": "markdown",
   "metadata": {
    "deletable": false,
    "editable": false,
    "heading_collapsed": true,
    "run_control": {
     "frozen": true
    }
   },
   "source": [
    "#### Hint (trykk pil til venstre)"
   ]
  },
  {
   "attachments": {},
   "cell_type": "markdown",
   "metadata": {
    "deletable": false,
    "editable": false,
    "hidden": true,
    "run_control": {
     "frozen": true
    }
   },
   "source": [
    "Om man ønsker å sortere navnene alfabetisk, kan man bruke `<` eller `>`. For navnene Ola og Ole vil Ole bli sett på som større enn Ola, siden `'e'` er representert av et større tall enn `'a'` i ASCII."
   ]
  },
  {
   "attachments": {},
   "cell_type": "markdown",
   "metadata": {
    "deletable": false,
    "editable": false,
    "heading_collapsed": true,
    "run_control": {
     "frozen": true
    }
   },
   "source": [
    "#### Bruk av æ, ø og å i oppgave b)"
   ]
  },
  {
   "attachments": {},
   "cell_type": "markdown",
   "metadata": {
    "deletable": false,
    "editable": false,
    "hidden": true,
    "run_control": {
     "frozen": true
    }
   },
   "source": [
    "I Python3 brukes Unicode-tabellen til representasjon av bokstaver, og mens verdiene for bokstavene a-z er de samme som i ASCII-tabellen, er det litt annerledes for æ, ø og å. Disse kommer i en litt annen rekkefølge enn vi er vant med og har følgende verdier:\n",
    "\n",
    "\n",
    "`'å'` - 229  \n",
    "`'Å'` - 197  \n",
    "`'æ'` - 230  \n",
    "`'Æ'` - 198  \n",
    "`'ø'` - 248  \n",
    "`'Ø'` - 216  \n",
    "\n",
    "\n",
    "Dette kan medføre at koden i oppgave b) ikke alltid vil gi korrekt svar, siden 'å' kommer før 'æ' og 'ø' i ASCII-tabellen, men etter 'æ' og 'ø' i det norske alfabetet.\n",
    "\n",
    "(Frivillig) Om du ønsker kan du endre på koden din slik at dette blir tatt hensyn til. Her må du nok benytte deg av stoff som ikke er gjennomgått enda."
   ]
  },
  {
   "attachments": {},
   "cell_type": "markdown",
   "metadata": {
    "deletable": false,
    "editable": false,
    "run_control": {
     "frozen": true
    }
   },
   "source": [
    "## c)"
   ]
  },
  {
   "attachments": {},
   "cell_type": "markdown",
   "metadata": {
    "deletable": false,
    "editable": false,
    "run_control": {
     "frozen": true
    }
   },
   "source": [
    "Hva vil kodesnuttene under skrive ut til skjerm?\n",
    "\n",
    "```python\n",
    "#Kodesnutt 1:\n",
    "if 'k' < 'b':\n",
    "    print('k er mindre enn b')\n",
    "else:\n",
    "    print('k er større enn b')\n",
    "```"
   ]
  },
  {
   "cell_type": "markdown",
   "metadata": {},
   "source": [
    "**Svar for kodesnutt 1 (Dobbelklikk på teksten under for å skrive):**"
   ]
  },
  {
   "attachments": {},
   "cell_type": "markdown",
   "metadata": {},
   "source": [
    ">Svar 1: "
   ]
  },
  {
   "cell_type": "markdown",
   "metadata": {},
   "source": [
    "```python\n",
    "#Kodesnutt 2:\n",
    "ny = \"New York\"\n",
    "la = \"Los Angeles\"\n",
    "  \n",
    "if ny < la:\n",
    "    print(ny)\n",
    "    print(la)\n",
    "else:\n",
    "    print(la)\n",
    "    print(ny)\n",
    "  \n",
    "```"
   ]
  },
  {
   "attachments": {},
   "cell_type": "markdown",
   "metadata": {
    "deletable": false,
    "editable": false,
    "run_control": {
     "frozen": true
    }
   },
   "source": [
    "___Svar for Kodesnutt 2:___"
   ]
  },
  {
   "attachments": {},
   "cell_type": "markdown",
   "metadata": {},
   "source": [
    ">Svar 2: "
   ]
  },
  {
   "cell_type": "markdown",
   "metadata": {},
   "source": [
    "```python\n",
    "#Kodesnutt 3:\n",
    "d1 = \"DRuEr\"\n",
    "d2 = \"drUer\"\n",
    "if d1.lower() < d2.lower():\n",
    "    print(d1)\n",
    "    print(d2)\n",
    "else:\n",
    "    print(d2.lower())\n",
    "```"
   ]
  },
  {
   "attachments": {},
   "cell_type": "markdown",
   "metadata": {
    "deletable": false,
    "editable": false,
    "run_control": {
     "frozen": true
    }
   },
   "source": [
    "___Svar for kodesnutt 3:___"
   ]
  },
  {
   "attachments": {},
   "cell_type": "markdown",
   "metadata": {},
   "source": [
    ">Svar 3: "
   ]
  }
 ],
 "metadata": {
  "kernelspec": {
   "display_name": "Python 3 (ipykernel)",
   "language": "python",
   "name": "python3"
  },
  "language_info": {
   "codemirror_mode": {
    "name": "ipython",
    "version": 3
   },
   "file_extension": ".py",
   "mimetype": "text/x-python",
   "name": "python",
   "nbconvert_exporter": "python",
   "pygments_lexer": "ipython3",
   "version": "3.9.7"
  },
  "toc": {
   "base_numbering": 1,
   "nav_menu": {},
   "number_sections": false,
   "sideBar": true,
   "skip_h1_title": false,
   "title_cell": "Table of Contents",
   "title_sidebar": "Contents",
   "toc_cell": false,
   "toc_position": {},
   "toc_section_display": true,
   "toc_window_display": false
  }
 },
 "nbformat": 4,
 "nbformat_minor": 2
}
