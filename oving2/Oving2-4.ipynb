{
 "cells": [
  {
   "cell_type": "markdown",
   "metadata": {},
   "source": [
    "# Unntakshåndtering og feil"
   ]
  },
  {
   "cell_type": "markdown",
   "metadata": {},
   "source": [
    "I et program er det mye som kan gå galt; \n",
    "\n",
    "- Det vanligste er at koden kan inneholde feil som viser seg ved kjøring feks. at en variabel har fått feil verdi eller det er en inkonsistens i systemet\n",
    "\n",
    "- Samtidig kan det også hende at *uønskede, men forventende* ting skjer. Feks. at en filoverføring avbrytes og må gjentas senere\n",
    "\n",
    "- Eller rett og slett at omgivelsene i programmet endrer seg underveis, slik at uventede situasjoner oppstår. Feks. ved at en fil slettes mens programmet leser fra filen.\n",
    "\n",
    "Slike uventede feil og hendelser kaller vi for **unntak** (engelsk: **Exceptions**).\n",
    "\n",
    "I denne delen skal vi se nærmere på hvordan vi kan gjøre koden og programmet vårt forberedt på slike feil (proaktivt) og hvordan vi kan håndtere de (reaktivt).\n",
    "\n"
   ]
  },
  {
   "cell_type": "markdown",
   "metadata": {},
   "source": [
    "# Proaktiv håndtering av unntak"
   ]
  },
  {
   "cell_type": "markdown",
   "metadata": {},
   "source": [
    "En utvikler kan (fortvilt) prøve å unngå feil i koden, dette blant annet ved\n",
    "\n",
    "- å forbedre koden til å avdekke behov og krav\n",
    "- gjøre en grundig gjennomgang av kode før den \"sendes til produksjon\"\n",
    "- gjøre eeenda bedre og grundigere testing, slik at flere feil lukes bort"
   ]
  },
  {
   "cell_type": "markdown",
   "metadata": {},
   "source": [
    "### a)"
   ]
  },
  {
   "cell_type": "markdown",
   "metadata": {},
   "source": [
    "**Fiks koden under slik at den ikke utløser unntak (feilmeldinger):**"
   ]
  },
  {
   "cell_type": "code",
   "execution_count": null,
   "metadata": {},
   "outputs": [],
   "source": [
    "x, y = 2, 1\n",
    "\n",
    "if [x > y]\n",
    "print x"
   ]
  },
  {
   "cell_type": "markdown",
   "metadata": {},
   "source": [
    "Koden over vil gi syntaksfeilmelding (`SyntaxError`) og indenteringsfeilmelding (`IndentationError`), da koden ikke er skrevet på gyldig Python syntaks. Dette kaller vi for **ParsingErrors**.\n",
    "\n",
    "I tillegg har vi også det vi kaller for **unntak** (**Exception**), dette er feilmeldinger som kan skje selv om koden vår er skrevet *syntaktisk riktig* - dette har med feil i selve utføringen av koden når den kjører.\n",
    "\n",
    "Blant annet kan man få en `ZeroDivisionError` når man deler på 0. Som utvikler kommer vi til å møte på de fleste, men blant de vanligste er `IllegalArgumentException`, `IllegalStateException` - som vi kommer til å bli godt kjent med! [Her](https://www.w3schools.com/python/python_ref_exceptions.asp) har du alle de ulike unntakene som er i Python.\n",
    "\n",
    "✨ **Pro tip:** Når koden din ikke fungerer kan det derfor være smart å se på feilmeldingen, for å nettopp forstå hvorfor koden din ikke fungerer. ✨\n",
    "\n",
    "Under ser du et eksempel på hvordan et unntak kan se ut. Her prøver vi å dele på 0, som gir `ZeroDivisionError`."
   ]
  },
  {
   "cell_type": "markdown",
   "metadata": {},
   "source": [
    "```Python\n",
    "10 * (1/0)\n",
    "Traceback (most recent call last):\n",
    "  File \"<Unntakshåndtering>\", line 1, in <module>\n",
    "ZeroDivisionError: division by zero\n",
    "```"
   ]
  },
  {
   "cell_type": "markdown",
   "metadata": {},
   "source": [
    "# Reaktiv håndtering av unntak"
   ]
  },
  {
   "cell_type": "markdown",
   "metadata": {},
   "source": [
    "En utvikler kan også oppdage og reagere på unntak på en ryddigere måte\n",
    "- Dette nettopp ved hjelp av validering av input og parameterverdier til funksjoner, slik at feil ikke får forplantet seg videre\n",
    "\n",
    "Dette kan for eksempel gjøres ved hjelp av en `if`-setning og sjekke om inputverdien til brukeren er gyldig (valid). Se kodeblokken under for et eksempel på validering.\n",
    "\n",
    "Her sjekker vi om brukeren faktisk skriver inn et ord på 3 bokstaver."
   ]
  },
  {
   "cell_type": "code",
   "execution_count": null,
   "metadata": {},
   "outputs": [],
   "source": [
    "print(\"Skriv inn et ord på 3 bokstaver\")\n",
    "ord = input(\"Skriv inn et ord på 3 bokstaver\")\n",
    "\n",
    "if len(ord) == 3:\n",
    "    print(\"Du har skrevet et ord på 3 bokstaver!\")\n",
    "else:\n",
    "    print(\"Du har ikke skrevet et ord på 3 bokstaver\")"
   ]
  },
  {
   "cell_type": "markdown",
   "metadata": {},
   "source": [
    "### b)"
   ]
  },
  {
   "cell_type": "markdown",
   "metadata": {},
   "source": [
    "**Oppgave: Legg til validering i koden under, slik at bare de som skriver inn riktig informasjon kommer inn i admin-modus**\n",
    "\n",
    "***Eksempel på kjøring:***\n",
    "```python\n",
    "Hva er brukernavnet ditt? Admin\n",
    "Hva er passordet ditt? Admin123\n",
    "Velkommen inn, du er en admin!\n",
    "```\n",
    "\n",
    "```python\n",
    "Hva er brukernavnet ditt? Benjamin\n",
    "Hva er passordet ditt? Button123\n",
    "Ugyldig adminbruker!\n",
    "```"
   ]
  },
  {
   "cell_type": "code",
   "execution_count": null,
   "metadata": {},
   "outputs": [],
   "source": [
    "print(\"Skriv inn riktig brukernavn og passord for å få tilgang til admin-modus\")\n",
    "\n",
    "brukernavn = input(\"Hva er brukernavn ditt? \")\n",
    "passord = input(\"Hva er passordet ditt? \")\n",
    "\n",
    "# Din kode her\n"
   ]
  },
  {
   "cell_type": "markdown",
   "metadata": {},
   "source": [
    "Til tross for gode valideringsmetoder vil det nesten alltid gjenstå feil man ikke har oppdaget og forutsett, som gjør at en må regne med unntak.\n",
    "\n",
    "Som utvikler er det derfor viktig å lære seg å håndtere unntakene på en god måte. I python er det 2 måter å håndtere unntak på:\n",
    "\n",
    "Ved hjelp av enten:\n",
    "- `Raise`\n",
    "- `Try except`"
   ]
  },
  {
   "cell_type": "markdown",
   "metadata": {},
   "source": [
    "# Utløse et unntak (Raise an exception)"
   ]
  },
  {
   "cell_type": "markdown",
   "metadata": {},
   "source": [
    "På engelsk heter det \"raise  exception\" (throw i noen kodespråk) når vi får en feilmelding, på norsk så kaller vi dette å **utløse et unntak**, altså ikke ~~kaste~~ eller ~~løfte~~.\n",
    "\n",
    "I Python så utløser vi et unntak ved å bruke `raise`.\n",
    "\n",
    "Prøver du å kjøre koden under, så vil du få feilmeldingen som er definert."
   ]
  },
  {
   "cell_type": "code",
   "execution_count": null,
   "metadata": {},
   "outputs": [],
   "source": [
    "raise Exception(\"Her skjedde det noe galt, gitt!\")"
   ]
  },
  {
   "cell_type": "markdown",
   "metadata": {},
   "source": [
    "Koden i blokken over er nyttig når vi ønsker å si i fra om et unntak oppstår, eller vi selv ønsker å definere når brukeren gjør noe ugyldig. Ved koding av større programmer med mye funksjonalitet, er dette ganske nyttig - og spesielt når man utvikler egne programmer og spill fra bunnen av!\n",
    "\n",
    "Unntakshåndtering kan for eksempel brukes når vi ønsker at brukeren skal taste inn et langt og sikkert passord. Se eksempel i kodeblokken under:"
   ]
  },
  {
   "cell_type": "code",
   "execution_count": null,
   "metadata": {},
   "outputs": [],
   "source": [
    "passord = input(\"Hva er passordet ditt? \")\n",
    "\n",
    "if len(passord) < 8:\n",
    "    raise ValueError(\"Passordet må være lengre enn 8 tegn!\")\n",
    "print(\"Passord lagret!\")"
   ]
  },
  {
   "cell_type": "markdown",
   "metadata": {},
   "source": [
    "Som en generell regel ønsker vi å spesifisere hvilken type unntak det er så langt det er mulig, og skrive en god feilmelding.\n",
    "\n",
    "Her er det mye bedre for en bruker (og en utvikler som skal debugge) å få vite at hen har utløst en `ValueError med meldingen \"Passordet må være lengre enn 8 tegn!\"`i motsetning til `Exception med meldingen \"Her skjedde det noe galt!\"`"
   ]
  },
  {
   "cell_type": "markdown",
   "metadata": {},
   "source": [
    "### c)"
   ]
  },
  {
   "cell_type": "markdown",
   "metadata": {},
   "source": [
    "**Din oppgave: Kopier koden din fra oppgave b) og utløs et unntak i stedet for print når brukeren gjør noe feil**"
   ]
  },
  {
   "cell_type": "markdown",
   "metadata": {},
   "source": [
    "***Eksempel på kjøring:***\n",
    "```python\n",
    "Hva er brukernavnet ditt? Admin\n",
    "Hva er passordet ditt? Admin123\n",
    "Velkommen inn, du er en admin!\n",
    "```\n",
    "\n",
    "```python\n",
    "Hva er brukernavnet ditt? Benjamin\n",
    "Hva er passordet ditt? Button123\n",
    "\n",
    "Traceback (most recent call last):\n",
    "ValueError: Ugyldig adminbruker!\n",
    "```"
   ]
  },
  {
   "cell_type": "code",
   "execution_count": null,
   "metadata": {},
   "outputs": [],
   "source": [
    "# Kopier inn koden din fra oppgave b) her"
   ]
  },
  {
   "cell_type": "markdown",
   "metadata": {},
   "source": [
    "# Unntakshåndtering (Try Except)"
   ]
  },
  {
   "cell_type": "markdown",
   "metadata": {},
   "source": [
    "I motsetning til `raise` som utløser et unntak, kan det være nyttig å håndtere unntak som skjer. Dette gjør vi med `Try Except` (Try Catch i noen kodespråk).\n",
    "\n",
    "`try except` brukes for å angi at koden skal være forberedt til å håndtere en bestemt type unntak.\n",
    "\n",
    "For eksempel når vi deler en verdi kan det være smart å angi hva som skal skje hvis vi deler på 0. Da kan vi bruke `try except`:"
   ]
  },
  {
   "cell_type": "code",
   "execution_count": null,
   "metadata": {},
   "outputs": [],
   "source": [
    "# Denne koden vil gi ZeroDivisionError\n",
    "x = 2\n",
    "y = 0\n",
    "\n",
    "summer = x/y\n",
    "\n",
    "print(summer)"
   ]
  },
  {
   "cell_type": "code",
   "execution_count": null,
   "metadata": {},
   "outputs": [],
   "source": [
    "# Denne koden vil også gi ZeroDivisionError, men her legger vi koden som gir unntaket i en try except\n",
    "x = 2\n",
    "y = 0\n",
    "\n",
    "try:\n",
    "    summer = x/y\n",
    "    print(summer)\n",
    "except ZeroDivisionError:\n",
    "    print(\"Her ble det delt på 0, gitt!\")"
   ]
  },
  {
   "cell_type": "markdown",
   "metadata": {},
   "source": [
    "Den siste kodeblokken med try except prøver først å kjøre koden i `try`, men den får et unntak, og unngår derfor å fullføre koden - og drar slik videre til `except` og kjører koden der i stedet.\n",
    "\n",
    "`Except` kjører med andre ord **bare når koden i try utløser et unntak**\n",
    "\n",
    "I koden blir unntaket som skal \"fanges\" definert som `ZeroDivisionError`. Slik kan man også håndtere flere ulike unntak, og kjøre ulik kode ut i fra hvilket unntak som blir utløst. Dette er så enkelt som å bare fylle på med flere `except` med ulike unntak.\n",
    "\n",
    "Bruk av `try except` kan slik få koden til å kjøre \"som normalt\", uten å bli avbrutt av unntak og feil."
   ]
  },
  {
   "cell_type": "markdown",
   "metadata": {},
   "source": [
    "# d)"
   ]
  },
  {
   "cell_type": "markdown",
   "metadata": {},
   "source": [
    "Det er ikke alltid vi kan være sikre på at brukeren har tastet inn det vi vil at hen skal taste inn. \n",
    "\n",
    "I koden under har vi startet på en kode der vi vil at brukeren skal taste inn 2 tall som skal summeres, men vi har ikke tatt hensyn til at brukeren kan taste inn noe annet enn heltall \n",
    "\n",
    "(`int()` vil da i koden under utløse et unntak. Kjør koden selv for å se!).\n",
    "\n",
    "**Din oppgave: Endre koden under til å inneholde unntakshåndtering med try except:**"
   ]
  },
  {
   "cell_type": "code",
   "execution_count": null,
   "metadata": {},
   "outputs": [],
   "source": [
    "tall1 = input(\"Skriv inn et tall\")\n",
    "tall2 = input(\"Skriv inn enda et tall\")\n",
    "\n",
    "summer = int(tall1) + int(tall2)\n",
    "\n",
    "print(summer)"
   ]
  }
 ],
 "metadata": {
  "kernelspec": {
   "display_name": "Python 3",
   "language": "python",
   "name": "python3"
  },
  "language_info": {
   "codemirror_mode": {
    "name": "ipython",
    "version": 3
   },
   "file_extension": ".py",
   "mimetype": "text/x-python",
   "name": "python",
   "nbconvert_exporter": "python",
   "pygments_lexer": "ipython3",
   "version": "3.11.4"
  },
  "orig_nbformat": 4
 },
 "nbformat": 4,
 "nbformat_minor": 2
}
