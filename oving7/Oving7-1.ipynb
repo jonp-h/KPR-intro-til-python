{
 "cells": [
  {
   "attachments": {},
   "cell_type": "markdown",
   "metadata": {
    "deletable": false,
    "editable": false,
    "run_control": {
     "frozen": true
    }
   },
   "source": [
    "# Generelt om dictionary\n",
    "\n",
    "**Læringsmål:**\n",
    "- Dictionary"
   ]
  },
  {
   "attachments": {},
   "cell_type": "markdown",
   "metadata": {
    "deletable": false,
    "editable": false,
    "heading_collapsed": true,
    "run_control": {
     "frozen": true
    }
   },
   "source": [
    "## Generelt om dictionaries"
   ]
  },
  {
   "attachments": {},
   "cell_type": "markdown",
   "metadata": {
    "deletable": false,
    "editable": false,
    "hidden": true,
    "run_control": {
     "frozen": true
    }
   },
   "source": [
    "En dictionary er et objekt som lagrer en samling av data, og kan minne mye om en liste. Det som skiller en dictionary fra en liste er at hvert element i en dictionary består av to deler: En nøkkel(a key) og en verdi(a value). En nøkkel peker til en verdi, og man bruker nøkkelen for å hente ut verdien.\n",
    "\n",
    "- key: Nøklene kan være flyttall, heltall, strenger eller tupler. Nøklene må være unike.\n",
    "- values: Innholdet som nøkkelen peker til. Dette kan være lister, strenger, heltall, osv.\n",
    "\n",
    "For eksempel kan du tenke på en norsk ordbok der ord er ramset opp i alfabetisk rekkefølge, og til hvert ord finner du en definisjon for dette ordet.\n",
    "\n",
    "![img](./../img/ordbok.png)\n",
    "\n",
    "På bildet over er \"Læring\" nøkkelen, mens verdien kan være en definisjon av ordet, verdi = \\[i psykologi: relativt varig atferdsendring som resultat av erfaring og øving\\]. For å få tak i denne verdien (definisjonen av ordet) må man slå opp på nøkkelen (Læring).\n",
    "\n",
    "En dictionary opprettes på to måter\n",
    "\n",
    "- dictionary = dict()\n",
    "- dictionary = {}, til forskjell fra lister er det her krøllparenteser(bracets) og ikke hakeparenteser.\n",
    "\n",
    "Et eksempel på bruk av dictionaries er gitt nedenfor:"
   ]
  },
  {
   "cell_type": "code",
   "execution_count": null,
   "metadata": {
    "hidden": true
   },
   "outputs": [],
   "source": [
    "telephone_numbers = {'Jon': 69748391, 'Knut': 74839220, 'Bent Erik': [62835674, 65748329]}  # Oppretter en dictionary med tre oppføringer\n",
    "print(telephone_numbers['Knut'])  # Skriver ut Knut sitt telefonnummer\n",
    "print(telephone_numbers['Bent Erik'][1])  # Skriver ut det andre telefonnummeret i listen av Bent Erik sine telefonnummer\n"
   ]
  },
  {
   "attachments": {},
   "cell_type": "markdown",
   "metadata": {
    "deletable": false,
    "editable": false,
    "hidden": true,
    "run_control": {
     "frozen": true
    }
   },
   "source": [
    "Her er 'Jon' den første nøkkelen, og 69748391 er den tilhørende verdien. 'Knut' er den andre nøkkelen og 'Bent Erik' er den siste nøkkelen.\n",
    "\n",
    "For å legge til et nytt key-value-par i dictionarien kan du gjøre følgende:"
   ]
  },
  {
   "cell_type": "code",
   "execution_count": null,
   "metadata": {
    "hidden": true
   },
   "outputs": [],
   "source": [
    "telephone_numbers['Roar'] = 82935829  # Legger Roar til i dictionarien\n",
    "print (telephone_numbers)  # Skriver ut hele telefonlisten"
   ]
  },
  {
   "attachments": {},
   "cell_type": "markdown",
   "metadata": {
    "deletable": false,
    "editable": false,
    "hidden": true,
    "run_control": {
     "frozen": true
    }
   },
   "source": [
    "Dersom du skal ha tak i en verdi, må du slå opp på nøkkelen. La oss si at du ønsker å vite nummeret til Jon, da må du skrive følgende:"
   ]
  },
  {
   "cell_type": "code",
   "execution_count": null,
   "metadata": {
    "hidden": true
   },
   "outputs": [],
   "source": [
    "print(telephone_numbers['Jon'])"
   ]
  },
  {
   "attachments": {},
   "cell_type": "markdown",
   "metadata": {
    "deletable": false,
    "editable": false,
    "run_control": {
     "frozen": true
    }
   },
   "source": [
    "# a)"
   ]
  },
  {
   "attachments": {},
   "cell_type": "markdown",
   "metadata": {
    "deletable": false,
    "editable": false,
    "run_control": {
     "frozen": true
    }
   },
   "source": [
    "***Opprett en tom dictionary my_family i kodeblokken under.***"
   ]
  },
  {
   "cell_type": "code",
   "execution_count": null,
   "metadata": {},
   "outputs": [],
   "source": []
  },
  {
   "attachments": {},
   "cell_type": "markdown",
   "metadata": {
    "deletable": false,
    "editable": false,
    "run_control": {
     "frozen": true
    }
   },
   "source": [
    "# b)"
   ]
  },
  {
   "attachments": {},
   "cell_type": "markdown",
   "metadata": {
    "deletable": false,
    "editable": false,
    "run_control": {
     "frozen": true
    }
   },
   "source": [
    "Lag en funksjon `add_family_member(role, name)` som tar inn to strenger, `rolle`(key) og `navn`(value), og legger familiemedlemmet til i dictionaryen `my_family`.\n",
    "\n",
    "***Skriv koden din i kodeblokken under***"
   ]
  },
  {
   "cell_type": "code",
   "execution_count": null,
   "metadata": {},
   "outputs": [],
   "source": []
  },
  {
   "attachments": {},
   "cell_type": "markdown",
   "metadata": {
    "deletable": false,
    "editable": false,
    "run_control": {
     "frozen": true
    }
   },
   "source": [
    "For å teste koden din kan du kjøre kodeblokken under. "
   ]
  },
  {
   "cell_type": "code",
   "execution_count": null,
   "metadata": {},
   "outputs": [],
   "source": [
    "add_family_member('bror', 'Arne')\n",
    "print (my_family)\n",
    "add_family_member('far', 'Bob Bernt')\n",
    "print (my_family)"
   ]
  },
  {
   "attachments": {},
   "cell_type": "markdown",
   "metadata": {
    "deletable": false,
    "editable": false,
    "run_control": {
     "frozen": true
    }
   },
   "source": [
    "Hvis du har gjort alt riktig skal output fra blokken over bli:\n",
    "```\n",
    "{'bror': 'Arne'}\n",
    "{'bror': 'Arne', 'far': 'Bob Bernt'}\n",
    "```"
   ]
  },
  {
   "attachments": {},
   "cell_type": "markdown",
   "metadata": {
    "deletable": false,
    "editable": false,
    "run_control": {
     "frozen": true
    }
   },
   "source": [
    "# c)"
   ]
  },
  {
   "attachments": {},
   "cell_type": "markdown",
   "metadata": {
    "deletable": false,
    "editable": false,
    "run_control": {
     "frozen": true
    }
   },
   "source": [
    "Hvis du ønsker å legge til flere familiemedlemmer med samme rolle (f.eks. to brødre), må du lage en liste som inneholder alle dine brødre.\n",
    "\n",
    "Når du har gjort dette kan du bruke vanlige liste-metoder som .append() og .pop() for å legge til eller fjerne elementer fra listen.\n",
    "\n",
    "*Nå skal du utvide funksjonaliteten fra b) slik at du kan legge til flere familiemedlemmer med samme rolle.*\n",
    "\n",
    "\n",
    "**Hint:** \n",
    "- Du må ha en liste med navn for hver rolle.\n",
    "\n",
    "- For å sjekke om en rolle finnes fra før av kan du bruke \"if key in dict\". Du kan også løse dette med unntakshåndtering.\n",
    "\n",
    "***Kopier koden din fra oppgave b) til kodeblokken under og utvid programmet til å støtte flere familiemedlemmer med samme rolle***"
   ]
  },
  {
   "cell_type": "code",
   "execution_count": null,
   "metadata": {},
   "outputs": [],
   "source": []
  },
  {
   "attachments": {},
   "cell_type": "markdown",
   "metadata": {
    "deletable": false,
    "editable": false,
    "run_control": {
     "frozen": true
    }
   },
   "source": [
    "For å teste koden kan du kjøre kodeblokken under"
   ]
  },
  {
   "cell_type": "code",
   "execution_count": null,
   "metadata": {},
   "outputs": [],
   "source": [
    "my_family={}\n",
    "add_family_member('bror', 'Arne')\n",
    "add_family_member('mor', 'Anne')\n",
    "add_family_member('bror', 'Geir')\n",
    "print (my_family)"
   ]
  },
  {
   "attachments": {},
   "cell_type": "markdown",
   "metadata": {
    "deletable": false,
    "editable": false,
    "run_control": {
     "frozen": true
    }
   },
   "source": [
    "Hvis du har gjort alt riktig skal output fra denne bli:\n",
    "```\n",
    "{bror': ['Arne', 'Geir'], 'mor': ['Anne'],}\n",
    "```"
   ]
  },
  {
   "attachments": {},
   "cell_type": "markdown",
   "metadata": {
    "deletable": false,
    "editable": false,
    "run_control": {
     "frozen": true
    }
   },
   "source": [
    "# d) (frivillig)"
   ]
  },
  {
   "attachments": {},
   "cell_type": "markdown",
   "metadata": {
    "deletable": false,
    "editable": false,
    "run_control": {
     "frozen": true
    }
   },
   "source": [
    "*(Du trenger ikke gjøre denne for å få godkjent oppgaven)* ***Skriv ut den ferdige dictionarien på et fint format med kodeblokken under***"
   ]
  },
  {
   "cell_type": "code",
   "execution_count": null,
   "metadata": {},
   "outputs": [],
   "source": []
  },
  {
   "attachments": {},
   "cell_type": "markdown",
   "metadata": {
    "deletable": false,
    "editable": false,
    "heading_collapsed": true,
    "run_control": {
     "frozen": true
    }
   },
   "source": [
    "#### Hint"
   ]
  },
  {
   "attachments": {},
   "cell_type": "markdown",
   "metadata": {
    "deletable": false,
    "editable": false,
    "hidden": true,
    "run_control": {
     "frozen": true
    }
   },
   "source": [
    "Du kan bruke en for-løkke med syntaksen for key, value in my_family.items(): for å iterere gjennom dictionarien. "
   ]
  }
 ],
 "metadata": {
  "kernelspec": {
   "display_name": "Python 3 (ipykernel)",
   "language": "python",
   "name": "python3"
  },
  "language_info": {
   "codemirror_mode": {
    "name": "ipython",
    "version": 3
   },
   "file_extension": ".py",
   "mimetype": "text/x-python",
   "name": "python",
   "nbconvert_exporter": "python",
   "pygments_lexer": "ipython3",
   "version": "3.10.11"
  },
  "toc": {
   "base_numbering": 1,
   "nav_menu": {},
   "number_sections": false,
   "sideBar": true,
   "skip_h1_title": false,
   "title_cell": "Table of Contents",
   "title_sidebar": "Contents",
   "toc_cell": false,
   "toc_position": {},
   "toc_section_display": true,
   "toc_window_display": false
  }
 },
 "nbformat": 4,
 "nbformat_minor": 2
}
