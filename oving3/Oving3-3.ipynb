{
 "cells": [
  {
   "cell_type": "markdown",
   "metadata": {},
   "source": [
    "# Feilsøk og debugging"
   ]
  },
  {
   "cell_type": "markdown",
   "metadata": {},
   "source": [
    "Debugger-verktøyet er en nyttig måte å feilsøke koden din på hvis noe ikke fungerer slik du forventer\n",
    "\n",
    "Verktøyet er bygget inn i de fleste IDE-er (Integrated Development Environment) slik som den du bruker nå, VSCODE - men også mange andre slik som Thonny, IntelliJ og Eclipse.\n",
    "\n",
    "I denne øvingen skal vi prøve å forstå hvordan vi kan bruke verktøyet i VSCODE. "
   ]
  },
  {
   "cell_type": "markdown",
   "metadata": {
    "slideshow": {
     "slide_type": "subslide"
    }
   },
   "source": [
    "![img](./../img/Debug-mode.png)"
   ]
  },
  {
   "cell_type": "markdown",
   "metadata": {},
   "source": [
    "# Debugging i VSCODE"
   ]
  },
  {
   "cell_type": "markdown",
   "metadata": {},
   "source": [
    "Debugger-verktøyet kan være litt skjult i øvingene, da Jupyter Notebooks ikke har en synlig knapp for det.\n",
    "\n",
    "![img](./../img/Debugging-breakpoints.png)\n",
    "![img](./../img/Debugging-knapp.png)\n",
    "\n",
    "Start debuggingen slik:\n",
    "1. Først må du velge et ***breakpoint***. Ved å holde musen helt til venstre i kodeblokken under vil du se at det dukker opp en rød prikk for hver kodelinje.\n",
    "2. Trykk for å opprette et *breakpoint*.\n",
    "3. Som vi vet så starter pekeren vår på toppen, og leser seg ned linje for linje. På en vanlig datamaskin skjer dette i løpet av millisekunder, men når vi markerer et breakpoint så vil pekeren stoppe der vi vil - som gir oss tid til å finne feil og undersøke koden detaljert!\n",
    "4. Man kan legge til så mange breakpoints man vil.\n",
    "5. Start debuggingen ved å trykke på ned-pilen sammen med Play-knappen til venstre for kodenblokken - trykk så på `Debug Cell` for å starte selve feilsøkingen. (Eller `ctrl+shift+alt+enter`) ⚠️**NB! Ser du ikke pilen må du restarte VSCODE!** ⚠️\n",
    "   \n",
    "   **Prøv selv på kodeblokken under!**\n",
    "\n"
   ]
  },
  {
   "cell_type": "markdown",
   "metadata": {},
   "source": [
    "Når du starter feilsøkingen vil venstre side av skjermen til VSCODE åpne debugging-panelet. Her har vi et nyttig hjelpemiddel ved at alle variablene i koden vår dukker opp. For hver linje du går videre i koden, vil variablene i dette vinduet bli oppdatert - som gjør det enkel å holde oversikt.\n",
    "\n",
    "For å gå videre til neste linje i koden, kan du trykke `Step into` (ser ut som en pil ned) i boksen på toppen av skjermen din.\n",
    "\n",
    "Du kan gå ut fra Debugging-modusen ved å trykke på Play-knappen i boksen på toppen av skjermen din, eller Avslutt-knappen til venstre for kodeblokken."
   ]
  },
  {
   "cell_type": "code",
   "execution_count": null,
   "metadata": {},
   "outputs": [],
   "source": [
    "tall1 = 1\n",
    "tall2 = 2 # Lager du et breakpoint her og starter debugging, vil du se at tall1 ligger som en variabel til venstre på skjermen din. Etter at denne linjen har kjørt, vil tall2 også lagres som en variabel\n",
    "\n",
    "summer = tall1 + tall2\n",
    "\n",
    "print(summer) # Lager du et breakpoint her og starter debugging, vil du kunne se alle variablene i koden"
   ]
  },
  {
   "cell_type": "markdown",
   "metadata": {},
   "source": [
    "# a)"
   ]
  },
  {
   "cell_type": "markdown",
   "metadata": {},
   "source": [
    "**Din oppgave: Svar på spørsmålene under den følgende kodeblokken. Her må du feilsøke for å finne deg fram til svarene. Bruk breakpoints og variabel-vinduet!**"
   ]
  },
  {
   "cell_type": "code",
   "execution_count": null,
   "metadata": {},
   "outputs": [],
   "source": [
    "for i in range(1,20):\n",
    "    if i%4 > 2 and i//8 == 0:\n",
    "        # Er jeg inne i løkka nå?\n",
    "        # Plasser et breakpoint (rød prikk) under denne linjen!\n",
    "        pass"
   ]
  },
  {
   "cell_type": "markdown",
   "metadata": {},
   "source": [
    "**Spørsmål: Går pekeren inn i løkken (if-setningen er sann)? Hva er `i`? (Det kan være flere svar)**\n",
    "\n",
    ">Svar: <Dobbeltklikk her for å svare>"
   ]
  },
  {
   "cell_type": "markdown",
   "metadata": {},
   "source": [
    "# b)"
   ]
  },
  {
   "cell_type": "markdown",
   "metadata": {},
   "source": [
    "**Din oppgave: Svar på spørsmålene under den følgende kodeblokken. Her må du også feilsøke for å finne deg fram til svarene. Bruk breakpoints og variabel-vinduet!**"
   ]
  },
  {
   "cell_type": "code",
   "execution_count": null,
   "metadata": {},
   "outputs": [],
   "source": [
    "ord = \"\"\n",
    "for i in range(1,20):\n",
    "    if i//4 and i%38 and i<10:\n",
    "        ord += \"sa\"\n",
    "    elif i//5 == 0:\n",
    "        ord += \"la\"\n",
    "    elif i%6 > 4:\n",
    "        ord += \"er\"\n",
    "    if i//2 == 1 and i < 5 and i%2 == 0:\n",
    "        ### Går pekeren inn i denne if-setningen?\n",
    "        pass"
   ]
  },
  {
   "cell_type": "markdown",
   "metadata": {},
   "source": [
    "**Spørsmål 1: Når `i` er 10, er noen if-setninger sanne?**\n",
    "\n",
    ">Svar: <Dobbeltklikk her for å svare>\n",
    "\n",
    "**Spørsmål 2: Går pekeren inn i den siste if-setningen (markert med ###)? Hva er `i`? Bruk breakpoints!**\n",
    "\n",
    ">Svar: <Dobbeltklikk her for å svare>"
   ]
  },
  {
   "cell_type": "markdown",
   "metadata": {},
   "source": [
    "# c)"
   ]
  },
  {
   "cell_type": "markdown",
   "metadata": {},
   "source": [
    "Noen ganger kan det være vanskelig å se hvor feilene i programmet ligger, da kan det være smart å bruke debugger-verktøyet til å se om variablene oppdateres riktig linje for linje.\n",
    "\n",
    "Kalkulatoren har følgende funksjonalitet:\n",
    "- Kalkulatoren skal bare gjøre 1 operasjon ved hver kjøring\n",
    "- Addere 2 tall\n",
    "- Subtrahere 2 tall\n",
    "- Dividere 2 tall (med riktige regler)\n",
    "- Multiplisere 2 tall\n",
    "\n",
    "**Din oppgave: Fiks kalkulatoren under ved hjelp av debugging-verktøyet**\n",
    "\n",
    "(Du bør endre variablene `a, o, b`)"
   ]
  },
  {
   "cell_type": "code",
   "execution_count": null,
   "metadata": {},
   "outputs": [],
   "source": [
    "# Her kan du endre på variablene for å feilsøke koden (man kan også gjøre det i variabel-vinduet i debugging-modus)\n",
    "# Gyldige operatorer for variabelen o er +, -, / og *.\n",
    "a, o, b = 1, \"+\", 1\n",
    "\n",
    "if(O == \"+\"):\n",
    "    print(a + b)\n",
    "elif(o != \"-\"):\n",
    "    print(a - b)\n",
    "if(o != \"/\" or b == 0):\n",
    "    print(a / b)\n",
    "if(0 == \"*\"):\n",
    "    print(a * b)"
   ]
  }
 ],
 "metadata": {
  "kernelspec": {
   "display_name": "Python 3",
   "language": "python",
   "name": "python3"
  },
  "language_info": {
   "codemirror_mode": {
    "name": "ipython",
    "version": 3
   },
   "file_extension": ".py",
   "mimetype": "text/x-python",
   "name": "python",
   "nbconvert_exporter": "python",
   "pygments_lexer": "ipython3",
   "version": "3.10.11"
  },
  "orig_nbformat": 4
 },
 "nbformat": 4,
 "nbformat_minor": 2
}
