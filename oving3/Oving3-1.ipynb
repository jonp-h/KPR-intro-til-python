{
 "cells": [
  {
   "attachments": {},
   "cell_type": "markdown",
   "metadata": {
    "deletable": false,
    "editable": false,
    "run_control": {
     "frozen": true
    }
   },
   "source": [
    "# Intro til løkker\n",
    "\n",
    "**Læringsmål:**\n",
    "\n",
    "* Løkker\n",
    "* Velge egnet løkkekonstruksjon (for eller while) etter behov\n",
    "\n",
    "I denne oppgaven skal du lære å skrive kode hvor handlinger repeteres ved hjelp av løkker."
   ]
  },
  {
   "attachments": {},
   "cell_type": "markdown",
   "metadata": {
    "deletable": false,
    "editable": false,
    "heading_collapsed": true,
    "run_control": {
     "frozen": true
    }
   },
   "source": [
    "### Intro om løkker"
   ]
  },
  {
   "attachments": {},
   "cell_type": "markdown",
   "metadata": {
    "deletable": false,
    "editable": false,
    "hidden": true,
    "run_control": {
     "frozen": true
    }
   },
   "source": [
    "Noe av det datamaskiner er best på, er gjentatte handlinger i høyt tempo. Dette er også et vanlig behov.\n",
    "* Et firma skal utbetale lønn til alle sine ansatte hver måned.\n",
    "* Et digitalt eksamenssystem skal vise spørsmål til, og motta svar fra, alle studenter som tar eksamen. \n",
    "* Et system som styrer industrielt produksjonsutstyr skal motta informasjon fra en rekke sensorer hvert eneste sekund, om trykk, temperatur, osv., og gjøre handlinger basert på verdiene.\n",
    "* Utstyr på et sykehus skal overvåke pasienters hjerterytme osv. sekund for sekund, og kunne slå alarm hvis noe er unormalt.\n",
    "* Utstyr for opptak av musikk skal kunne sample lyden tusenvis eller millionvis av ganger per sekund.\n",
    "* Et program for å vise video på en mobilskjerm må likeledes kunne oppdatere fargen i hver piksel på skjermen mange ganger i sekundet.\n",
    "\n",
    "Du har kanskje erfaring med bruk av regneark? Der er det vanlig hvis man skal bruke samme formel på alle radene i en tabell at man **kopierer** formelen nedover.  \n",
    "Å kopiere samme kodesetning flere ganger er mulig i Python også, men bare praktisk hvis antall repetisjoner er lavt og kjent på forhånd.\n",
    "Eksemplet nedenfor viser et slikt tilfelle, hvor en kodelinje er gjentatt 3 ganger."
   ]
  },
  {
   "cell_type": "code",
   "execution_count": null,
   "metadata": {
    "hidden": true
   },
   "outputs": [],
   "source": [
    "print(\"Hipp\")\n",
    "print(\"Hipp\")\n",
    "print(\"Hipp\")\n",
    "print(\"Hurra!\")"
   ]
  },
  {
   "attachments": {},
   "cell_type": "markdown",
   "metadata": {
    "deletable": false,
    "editable": false,
    "hidden": true,
    "run_control": {
     "frozen": true
    }
   },
   "source": [
    "Samme utskrift kan oppnås med løkke:"
   ]
  },
  {
   "cell_type": "code",
   "execution_count": null,
   "metadata": {
    "hidden": true
   },
   "outputs": [],
   "source": [
    "for i in range(3):\n",
    "    print(\"Hipp!\")\n",
    "print(\"Hurra!\")"
   ]
  },
  {
   "attachments": {},
   "cell_type": "markdown",
   "metadata": {
    "deletable": false,
    "editable": false,
    "hidden": true,
    "run_control": {
     "frozen": true
    }
   },
   "source": [
    "**for &lt;variabel&gt; in range(3)**: gjør at påfølgende kodesetning(er) med innrykk blir repetert 3 ganger.\n",
    "\n",
    "print(\"Hurra!\") som ikke har innrykk, er ikke del av løkka, og vil derfor bare bli utført en gang, etter at løkka er ferdig.\n",
    "\n",
    "Det fins to typer løkker i Python, **for**-løkke som vist over, og **while**-løkke. Vi kunne ha klart oss med bare while-løkke, eksemplet ville da ha blitt:"
   ]
  },
  {
   "cell_type": "markdown",
   "metadata": {},
   "source": [
    "## ✨ Jons funfact blokk ✨\n",
    "\n",
    "I utgangspunktet er det ikke noe farlig hva du kaller variabelen i løkken, men med de fleste utviklere tar inspirasjon fra matematiske notasjon og bruker derfor `i`, `x`, `j`, `y`, osv...\n",
    "\n",
    "## ✨✨✨✨✨✨✨✨"
   ]
  },
  {
   "cell_type": "markdown",
   "metadata": {},
   "source": [
    "Det fins to typer løkker i Python, **for**-løkke som vist over, og **while**-løkke. Vi kunne ha klart oss med bare while-løkke, eksemplet ville da ha blitt:"
   ]
  },
  {
   "cell_type": "code",
   "execution_count": null,
   "metadata": {
    "hidden": true
   },
   "outputs": [],
   "source": [
    "i = 0\n",
    "while i < 3:\n",
    "    print(\"Hipp\")\n",
    "    i = i + 1  # eller: i += 1\n",
    "print(\"Hurra!\")"
   ]
  },
  {
   "attachments": {},
   "cell_type": "markdown",
   "metadata": {
    "deletable": false,
    "editable": false,
    "hidden": true,
    "run_control": {
     "frozen": true
    }
   },
   "source": [
    "while er noe mer tungvint her, vi må eksplisitt øke i med 1 for hver runde, som er implisitt i for-løkka. \n",
    "\n",
    "while-løkka vil fortsette så lenge betingelsen (her: i < 3) er **sann**, den vil derfor kjøre når `i` er 0, 1, 2, men deretter stoppe når `i` blir 3. Som i for-løkka gjør dette at Hipp skrives 3 ganger.\n",
    "\n",
    "I andre situasjoner er while-løkke derimot bedre enn  for-løkke. Generelt gjelder følgende:\n",
    "\n",
    "* **for-løkke** egner seg når vi har et **kjent antall repetisjoner**. Eksempel fra den virkelige verden: hver måned skal et firma utbetale lønn til alle sine ansatte. Firmaet og dets datasystem vet (forhåpentligvis) hvor mange ansatte det har, dermed har løkka \"for alle ansatte, beregn og utbetal lønn\" et kjent antall repetisjoner når lønningsdagen kommer.\n",
    "* **while-løkke** er derimot nødvendig hvis **maks antall repetisjoner er uvisst** når løkka starter og vi først finner ut underveis når løkka skal avsluttes. F.eks.\n",
    " * brukeren bestemmer underveis, f.eks. \"Try again\" / \"Quit\" - vi aner ikke hvor mange ganger brukeren vil forsøke. Eller et program for lydopptak: løkka som sampler lyden, starter når brukeren klikker på \"Record\" og skal fortsette til brukeren trykker \"Stop\" - og vi aner ikke hvor mange sekunder eller minutter det vil ta.\n",
    " * numerisk løsning av matematiske likninger, hvor stoppkriteriet er at vi skal ha nådd en viss presisjon. Hvis vi ikke aner på forhånd hvor mange iterasjoner som trengs for å nå denne presisjonen, vil while-løkke være best.\n",
    " * produksjonsutstyr i en fabrikk skal kjøre som normalt med mindre sensordata indikerer en krisesituasjon, og da gå over til en alternativ nødprosedyre. Vi aner ikke om det går tusen sekunder, eller millioner av sekunder... kanskje inntreffer krisesituasjonen slett ikke. Dermed vil antall repetisjoner av løkka for normal oppførsel være ukjent når den starter, som tilsier while-løkke.\n",
    "\n",
    "Under er forskjellen vist ved to ytterligere varianter av Hurra-programmet vårt. Kopier gjerne denne koden inn i editoren din og  kjør  den  for å se hvordan den virker."
   ]
  },
  {
   "cell_type": "code",
   "execution_count": null,
   "metadata": {
    "hidden": true
   },
   "outputs": [],
   "source": [
    "# hvis brukeren skal bestemme antall på forhånd:\n",
    "antall = int(input(\"Hvor mange Hipp?\" ))\n",
    "for i in range(antall):\n",
    "    print(\"Hipp\")\n",
    "print(\"Hurra!\")\n",
    " \n",
    "# hvis brukeren skal bestemme seg for å slutte underveis:\n",
    "print(\"Slå Enter direkte etter Hipp for å legge til flere Hipp,\")\n",
    "print(\"eller mellomrom så Enter for å avslutte: \")\n",
    "while input(\"Hipp\") == \"\":\n",
    "    print(\"Hipp\")\n",
    "    pass\n",
    "print(\"Hurra!\")"
   ]
  },
  {
   "attachments": {},
   "cell_type": "markdown",
   "metadata": {
    "deletable": false,
    "editable": false,
    "hidden": true,
    "run_control": {
     "frozen": true
    }
   },
   "source": [
    "Linje 1-5 viser en variant med **for**-løkke. Siden brukeren gir inn på forhånd antall Hipp som ønskes, er **antall repetisjoner kjent**, og **for-løkke enklest.**\n",
    "\n",
    "Linje 7-12 viser derimot en variant hvor brukeren bestemmer underveis i løkka om vi skal fortsette eller avslutte, da er det best med **while** siden **antall repetisjoner er ukjent.**\n",
    "\n",
    " * brukeren velger å fortsette ved å trykke Enter direkte etter Hipp; dette vil gi en helt tom streng \"\" som resultat, slik at betingelsen i while vil  være sann. Så lenge den er sann, fortsetter løkka med å gjøre ny input() som gjør at \"Hipp\" blir printet ut på nytt.\n",
    " \n",
    " * brukeren velger å avslutte ved å skrive inn et blankt tegn og deretter slå Enter. Dette vil gi strengen \" \" som er forskjellig fra \"\", da blir betingelsen usann, og løkka avsluttes, og programmet går videre med å skrive \"Hurra\".\n",
    "\n",
    "I while-løkka er den eneste handlingen vi ønsker å utføre, den input() og sammenligning som står i betingelsen. Da trenger vi egentlig ingen innmat. Man er imidlertid nødt til å ha minst en setning inni ei løkke.\n",
    "Derfor **pass**, som er et beskyttet ord i Python for å gjøre ingenting. De fleste løkker vil ha mer kompliserte gjøremål og derfor også trenge en eller flere setninger inni som gjør noe."
   ]
  },
  {
   "attachments": {},
   "cell_type": "markdown",
   "metadata": {
    "deletable": false,
    "editable": false,
    "run_control": {
     "frozen": true
    }
   },
   "source": [
    "## a)"
   ]
  },
  {
   "attachments": {},
   "cell_type": "markdown",
   "metadata": {
    "deletable": false,
    "editable": false,
    "run_control": {
     "frozen": true
    }
   },
   "source": [
    "Koden under viser en for-løkke som repeterer 3 ganger. For hver runde blir brukeren bedt om å beskrive seg selv med et adjektiv, hvorpå maskinen disser brukeren ved å si at den er snillere, smartere etc.\n",
    "\n",
    "(Trikset her er bare å legge til \"ere\" bak adjektivet, så det vil **ikke** bli grammatisk korrekt for adjektiv som bøyes annerledes.)\n",
    "\n",
    "Kjør koden for å se hvordan den virker. \n",
    "\n",
    "***Din oppgave: Endre så koden slik at programmet først spør brukeren hvor mange repetisjoner som ønskes, og deretter utfører programmet med ønsket antall repetisjoner av løkka.***\n",
    "\n",
    "Eksempel på kjøring:\n",
    "\n",
    "```python  \n",
    "Hvor mange adjektiv vil du gi? 2\n",
    "Beskriv deg selv med et adjektiv? snill\n",
    "Hah, du snill!? Jeg er mye snillere!\n",
    "Beskriv deg selv med et adjektiv? ond\n",
    "Hah, du ond!? Jeg er mye ondere!\n",
    "Takk for nå!\n",
    "```"
   ]
  },
  {
   "cell_type": "code",
   "execution_count": null,
   "metadata": {
    "ExecuteTime": {
     "end_time": "2019-07-02T12:12:32.923751Z",
     "start_time": "2019-07-02T12:12:22.141490Z"
    }
   },
   "outputs": [],
   "source": [
    "#endre koden under\n",
    "\n",
    "for i in range(3):\n",
    "    adj = input(\"Beskriv deg selv med et adjektiv? \")\n",
    "    print(\"Hah, du\", adj + \"!? Jeg er mye\", adj + \"ere!\")\n",
    "print(\"Takk for nå!\")"
   ]
  },
  {
   "attachments": {},
   "cell_type": "markdown",
   "metadata": {
    "deletable": false,
    "editable": false,
    "heading_collapsed": true,
    "run_control": {
     "frozen": true
    }
   },
   "source": [
    "#### Hint"
   ]
  },
  {
   "attachments": {},
   "cell_type": "markdown",
   "metadata": {
    "deletable": false,
    "editable": false,
    "hidden": true,
    "run_control": {
     "frozen": true
    }
   },
   "source": [
    "I stedet for tallet 3 i koden, må det stå en variabel for antall repetisjoner, og denne må i forkant leses inn fra bruker med input() og konverteres til et heltall."
   ]
  },
  {
   "attachments": {},
   "cell_type": "markdown",
   "metadata": {
    "deletable": false,
    "editable": false,
    "run_control": {
     "frozen": true
    }
   },
   "source": [
    "## b)"
   ]
  },
  {
   "attachments": {},
   "cell_type": "markdown",
   "metadata": {
    "deletable": false,
    "editable": false,
    "run_control": {
     "frozen": true
    }
   },
   "source": [
    "Koden under viser en while-løkke som utfører samme type brukerdialog som i (a), med 3 repetisjoner. Kjør den for å se hvordan det virker. **Endre nå programmet så løkka ikke kjører akkurat 3 ganger, men så mange ganger brukeren vil**, hvor brukeren kan bestemme dette underveis ved å gi et tomt svar (dvs. bare slå Enter) for å slutte. Da vil input()-setningen resultere i en tom streng, \"\".\n",
    "\n",
    "Eksempel på kjøring:\n",
    "\n",
    "```python\n",
    "Slå Enter uten å skrive noe når du vil avslutte.\n",
    "Beskriv deg selv med et adjektiv? snill\n",
    "Hah, du snill!? Jeg er mye snillere!\n",
    "Beskriv deg selv med et adjektiv? smart\n",
    "Hah, du smart!? Jeg er mye smartere!\n",
    "Beskriv deg selv med et adjektiv? flittig\n",
    "Hah, du flittig!? Jeg er mye flittigere!\n",
    "Beskriv deg selv med et adjektiv?\n",
    "Takk for nå!\n",
    "```\n",
    "\n",
    "Fjerde gang spørsmålet om adjektiv ble stilt, slo brukeren her bare Enter uten å skrive inn noen tegn, da avsluttet løkka og programmet gikk videre med å skrive \"Takk for nå\""
   ]
  },
  {
   "cell_type": "code",
   "execution_count": null,
   "metadata": {},
   "outputs": [],
   "source": [
    "#ta utgangspunkt i koden under for oppgave b og c\n",
    "\n",
    "i = 0\n",
    "while i < 3:\n",
    "    adj = input(\"Beskriv deg selv med et adjektiv? \")\n",
    "    print(\"Hah, du\", adj + \"!? Jeg er mye\", adj + \"ere!\")\n",
    "    i = i + 1\n",
    "print(\"Takk for nå!\")"
   ]
  },
  {
   "attachments": {},
   "cell_type": "markdown",
   "metadata": {
    "deletable": false,
    "editable": false,
    "heading_collapsed": true,
    "run_control": {
     "frozen": true
    }
   },
   "source": [
    "#### Hint"
   ]
  },
  {
   "attachments": {},
   "cell_type": "markdown",
   "metadata": {
    "deletable": false,
    "editable": false,
    "hidden": true,
    "run_control": {
     "frozen": true
    }
   },
   "source": [
    "I eksemplet måtte vi sette i = 0 før vi kan utføre testen i < 3, hvis ikke i hadde fått noen verdi, ville testen gi feilmelding. Likeledes, hvis du skal teste på at adj != \"\" må adj ha fått en verdi før denne testen skjer. Altså må du gjøre den første input til adj før while-løkka  starter.\n",
    "\n",
    "Inni while-løkka vil det da også være fornuftig å bytte om  rekkefølgen på print-setningen og input-setningen, fordi du allerede har gjort en input før løkka som du kan basere den første \"Hah...\"-responsen på."
   ]
  },
  {
   "attachments": {},
   "cell_type": "markdown",
   "metadata": {
    "deletable": false,
    "editable": false,
    "run_control": {
     "frozen": true
    }
   },
   "source": [
    "## c)"
   ]
  },
  {
   "attachments": {},
   "cell_type": "markdown",
   "metadata": {
    "deletable": false,
    "editable": false,
    "run_control": {
     "frozen": true
    }
   },
   "source": [
    "Ta igjen utgangspunkt i while-løkka med 3 repetisjoner som vist før oppgave (b). Vi ønsker nå å endre programmet på følgende måte:\n",
    "\n",
    "Brukeren starter med 42 bokstaver til disposisjon. For hver runde skal programmet trekke fra antall bokstaver i det adjektivet som ble brukt.\n",
    "\n",
    "Løkka skal fortsette så lenge det fortsatt er bokstaver til disposisjon (dvs. dette tallet er større enn 0). \n",
    "\n",
    "**Eksempel på kjøring:**\n",
    "\n",
    "```python\n",
    "Du har 42 bokstaver til disposisjon.\n",
    "Beskriv deg selv med et adjektiv? snill\n",
    "Hah, du snill!? Jeg er mye snillere!\n",
    "Du har 37 bokstaver til disposisjon.\n",
    "Beskriv deg selv med et adjektiv? desperat\n",
    "Hah, du desperat!? Jeg er mye desperatere!\n",
    "Du har 29 bokstaver til disposisjon.\n",
    "Beskriv deg selv med et adjektiv? kjempetørst\n",
    "Hah, du kjempetørst!? Jeg er mye kjempetørstere!\n",
    "Du har 18 bokstaver til disposisjon.\n",
    "Beskriv deg selv med et adjektiv? megasupereffektiv\n",
    "Hah, du megasupereffektiv!? Jeg er mye megasupereffektivere!\n",
    "Du har 1 bokstaver til disposisjon.\n",
    "Beskriv deg selv med et adjektiv? o\n",
    "Hah, du o!? Jeg er mye oere!\n",
    "Takk for nå!\n",
    ">>>\n",
    "```\n",
    "\n",
    "I siste linje, hvor det bare er 1 bokstav til disposisjon, er brukeren lojal her og skrive bare en bokstav - men du behøver ikke lage programmet slik at det sikrer dette... det er ok om brukeren skriver et lenger ord den siste gangen, så lenge brukeren ikke får lov til å skrive nye ord når antall bokstaver til disposisjon er blitt <= 0."
   ]
  },
  {
   "attachments": {},
   "cell_type": "markdown",
   "metadata": {
    "deletable": false,
    "editable": false,
    "heading_collapsed": true,
    "run_control": {
     "frozen": true
    }
   },
   "source": [
    "#### Hint"
   ]
  },
  {
   "attachments": {},
   "cell_type": "markdown",
   "metadata": {
    "deletable": false,
    "editable": false,
    "hidden": true,
    "run_control": {
     "frozen": true
    }
   },
   "source": [
    "I stedet for tellevariabelen i som starter på 0, og med betingelse < 3 i while-setninga, må du nå ha en variabel som starter på 42, og hvor lengden av hvert nye ord trekkes fra i løkka. Lengde kan finnes med funksjonen len(), dvs. len(adj) gir lengden til strengen adj. Testen i while-setninga må også tilpasses til det vi nå er ute etter, nemlig å fortsette så lenge det fremdeles er bokstaver til disposisjon.\n",
    "\n",
    "------"
   ]
  },
  {
   "attachments": {},
   "cell_type": "markdown",
   "metadata": {
    "deletable": false,
    "editable": false,
    "heading_collapsed": true,
    "run_control": {
     "frozen": true
    }
   },
   "source": [
    "### Intro til for-løkke og range()"
   ]
  },
  {
   "attachments": {},
   "cell_type": "markdown",
   "metadata": {
    "deletable": false,
    "editable": false,
    "hidden": true,
    "run_control": {
     "frozen": true
    }
   },
   "source": [
    "### ⚠️⚠️⚠️\n",
    "##### **Under følger det mye tekst!!** Det er ikke nødvendig å lese all teksten i øvingen for å forstå oppgavene. Gjerne hopp direkte til kodeblokkene og prøv deg på oppgave d). Får du det ikke til, kan du se nærmere på forklaringen\n",
    "\n",
    "### ⚠️⚠️⚠️\n",
    "\n",
    "\n",
    "Som forklart over, er for-løkker egnet for tilfeller hvor antall repetisjoner er kjent. I oppgave (a) startet vi med kode:"
   ]
  },
  {
   "cell_type": "code",
   "execution_count": null,
   "metadata": {
    "hidden": true
   },
   "outputs": [],
   "source": [
    "i = 0\n",
    "while i < 3:\n",
    "    adj = input(\"Beskriv deg selv med et adjektiv? \")\n",
    "    print(\"Hah, du\", adj + \"!? Jeg er mye\", adj + \"ere!\")\n",
    "    i = i + 1\n",
    "print(\"Takk for nå!\")"
   ]
  },
  {
   "attachments": {},
   "cell_type": "markdown",
   "metadata": {
    "deletable": false,
    "editable": false,
    "hidden": true,
    "run_control": {
     "frozen": true
    }
   },
   "source": [
    "som repeterer 3 ganger. Du byttet deretter ut tallet 3 med en variabel for å kunne repetere et annet (men fortsatt kjent) antall ganger.\n",
    "\n",
    "I oppgave (a) ble løkkevariabelen i ikke brukt til noe inni selve løkka, den fins kun i for-setningen. Poenget i denne løkka er bare å telle opp at den kjører 3 ganger, i har ingen mening utover det.\n",
    "\n",
    "I andre tilfeller hvor vi bruker for-løkker kan løkkevariabelen ha en større betydning. Det er da viktig å forstå ikke bare at f.eks. range(3) fører til 3 repetisjoner, men å vite eksakt hvilken tallsekvens en range() representerer.\n",
    "\n",
    "### Generelt gjelder følgende:\n",
    "\n",
    "> Hvis vi gir inn bare **ett tall** til range(), tolkes dette som sluttverdien. Startverdien er default 0. Sluttverdien selv er **ikke** med i sekvensen; det er \"til\", ikke \"til og med\". Eksempel:\n",
    " * `range(3)` gir tallsekvensen 0, 1, 2. Løkka over kjører 3 ganger ved å ta først med i=0, så med i=1, så med i=2.\n",
    " * `range(5)` gir 0, 1, 2, 3, 4\n",
    " * `range(0)` gir en tom tallsekvens. Samme vil være tilfelle med negative tall; og en løkke for i in range(0): vil kjøre null ganger.\n",
    "\n",
    "> Hvis vi gir inn **to tall** til range(), tolkes dette som startverdi (fra og med) og sluttverdi (til, men ikke med). Eksempel:\n",
    " * `range(1, 7)` gir 1, 2, 3, 4, 5, 6\n",
    " * `range(-3, 4)` gir -3, -2, -1, 0, 1, 2, 3\n",
    " * `range(4, 3)` gir en tom  tallsekvens (fordi sluttverdi er mindre enn startverdi)\n",
    "\n",
    "> Hvis vi gir inn tre tall til range(), er de to første start og slutt som før, det tredje er stegverdien. Default stegverdi er +1, så vi trenger kun angi den hvis vi ønsker noe annet enn +1. Eksempel:\n",
    " * `range(1, 10, 2)` gir 1, 3, 5, 7, 9\n",
    " * `range(3, 11, 4)` gir 3, 7 (men ikke 11, fordi det bare er til sluttverdien, ikke til og med)\n",
    " * `range(11, 3, -2)` gir 11,  9,  7,  5 - det går altså an å bruke negative tall for stegverdi, da må startverdi være større enn sluttverdi for at løkka skal kjøre\n"
   ]
  },
  {
   "cell_type": "markdown",
   "metadata": {},
   "source": [
    "\n",
    "På basis av dette kan vi endre det lille programmet over til ett som bruker variabelen i også inne i løkka, f.eks. (**Kjør gjerne selv koden med ctrl + enter, og ta gjerne å endre på verdiene for å se hva som skjer**)"
   ]
  },
  {
   "cell_type": "code",
   "execution_count": null,
   "metadata": {
    "hidden": true
   },
   "outputs": [],
   "source": [
    "for i in range(7, 14, 3):\n",
    "    adj = input(\"Beskriv deg selv med et adjektiv? \")\n",
    "    print(\"Hah, du\", adj + \"!? Jeg er\", i, \"ganger\", adj + \"ere!\")\n",
    "print(\"Takk for nå!\")"
   ]
  },
  {
   "attachments": {},
   "cell_type": "markdown",
   "metadata": {
    "deletable": false,
    "editable": false,
    "hidden": true,
    "run_control": {
     "frozen": true
    }
   },
   "source": [
    "Her vil  koden fortsatt kjøre 3 ganger fordi den resulterende tallsekvensen har 3 elementer, men bruken av i inni løkka gjør programmet mer og mer skrytende. (Bare range(3) ville ikke ha sett like bra ut her, da sier den \"0 ganger...\", \"1 ganger...\" som ikke er særlig imponerende)"
   ]
  },
  {
   "attachments": {},
   "cell_type": "markdown",
   "metadata": {
    "deletable": false,
    "editable": false,
    "hidden": true,
    "run_control": {
     "frozen": true
    }
   },
   "source": [
    "Et annet eksempel (kjør koden!):"
   ]
  },
  {
   "cell_type": "code",
   "execution_count": null,
   "metadata": {
    "hidden": true
   },
   "outputs": [],
   "source": [
    "tall = int(input(\"Hvilket tall vil du se gangetabellen for? \"))\n",
    "print(str(tall)+\"-gangen går slik:\")\n",
    "  \n",
    "for i in range(1, 11):\n",
    "    print(i * tall, end = \"  \")\n",
    "  \n",
    "print(\"Takk for nå!\")"
   ]
  },
  {
   "attachments": {},
   "cell_type": "markdown",
   "metadata": {
    "deletable": false,
    "editable": false,
    "hidden": true,
    "run_control": {
     "frozen": true
    }
   },
   "source": [
    "Merk igjen at sluttverdien er til, men ikke med, så vi må gi 11 som sluttverdi i range() for at den skal få med 70 i resultatet, dersom vi vil se hele 7-gangen.\n",
    "\n",
    "end = \"  \" i print-setninga gjør at vi ikke får linjeskift mellom hvert tall men i stedet får dem etter hverandre med blanke mellom.\n",
    "\n",
    " \n",
    "\n",
    "Problemet kunne alternativt ha vært løst ved å bruke tallet det skal ganges med som stegverdi. Ulempen er at range-uttrykket blir litt mer komplisert, men samtidig slipper vi nå unna med en enkelt multiplikasjon utenfor løkka i stedet for å multiplisere i hver runde av løkka:"
   ]
  },
  {
   "cell_type": "code",
   "execution_count": null,
   "metadata": {
    "ExecuteTime": {
     "end_time": "2019-07-02T12:45:50.304075Z",
     "start_time": "2019-07-02T12:33:15.731777Z"
    },
    "hidden": true
   },
   "outputs": [],
   "source": [
    "tall = int(input(\"Hvilket tall vil du se gangetabellen for? \"))\n",
    "print(str(tall)+\"-gangen går slik:\")\n",
    " \n",
    "for i in range(tall, tall * 10 + 1, tall):\n",
    "    print(i, end = \"  \")\n",
    " \n",
    "print(\"Takk for nå!\")"
   ]
  },
  {
   "attachments": {},
   "cell_type": "markdown",
   "metadata": {
    "deletable": false,
    "editable": false,
    "hidden": true,
    "run_control": {
     "frozen": true
    }
   },
   "source": [
    "Dette programmet vil gi eksakt samme utskrift som det foregående, bare oppnådd på en litt annen måte; for 7-gangen vil nå 7 være startverdi og stegverdi, og 71 sluttverdi for range()."
   ]
  },
  {
   "attachments": {},
   "cell_type": "markdown",
   "metadata": {
    "deletable": false,
    "editable": false,
    "run_control": {
     "frozen": true
    }
   },
   "source": [
    "## d)"
   ]
  },
  {
   "attachments": {},
   "cell_type": "markdown",
   "metadata": {
    "deletable": false,
    "editable": false,
    "run_control": {
     "frozen": true
    }
   },
   "source": [
    " koden under er de to første for-løkkene ferdige og gir riktig utskrift i forhold til den forklarende teksten i print-setningene.\n",
    "\n",
    "De tre neste er ikke ferdige. Bytt ut `range(0)` i disse tre (også merket med ###) slik at for-løkkene gir tallsekvenser som passer med det som forklares i print-setningene.\n",
    "\n",
    "**Øvelse på range()**"
   ]
  },
  {
   "cell_type": "code",
   "execution_count": null,
   "metadata": {},
   "outputs": [],
   "source": [
    "print(\"Oddetallene fra 1 til 20:\")\n",
    "for number in range(1, 20, 2):\n",
    "    print(number, end = \" \")\n",
    "print()\n",
    "  \n",
    "print(\"Tallene i 3-gangen mellom 12 og 25:\")\n",
    "for number in range(12, 25, 3):\n",
    "    print(number, end = \" \")\n",
    "print()\n",
    "\n",
    "# Under må du fylle inn der det er markert \"###\"\n",
    "print(\"Tallene i 5-gangen mellom 20 og 81:\")\n",
    "for number in range(0): ###\n",
    "    print(number, end = \" \")\n",
    "print()\n",
    "  \n",
    "print(\"Tallsekvensen 48, 56, 64, 72, 80\")\n",
    "for number in range(0): ###\n",
    "    print(number, end = \" \")\n",
    "print()\n",
    "  \n",
    "print(\"Telle baklengs fra 100 til 80, med intervall på -3, dvs. 100, 97, ...:\")\n",
    "for number in range(0): ###\n",
    "    print(number, end = \" \")\n",
    "print()"
   ]
  },
  {
   "attachments": {},
   "cell_type": "markdown",
   "metadata": {
    "deletable": false,
    "editable": false,
    "run_control": {
     "frozen": true
    }
   },
   "source": [
    "## e)"
   ]
  },
  {
   "attachments": {},
   "cell_type": "markdown",
   "metadata": {
    "deletable": false,
    "editable": false,
    "run_control": {
     "frozen": true
    }
   },
   "source": [
    "Lag et program som skriver ut tallene 1 til 5 ved bruk av en for-løkke.\n",
    "\n",
    "***Skriv koden din her:***"
   ]
  },
  {
   "cell_type": "code",
   "execution_count": null,
   "metadata": {
    "ExecuteTime": {
     "end_time": "2019-07-02T12:45:50.308821Z",
     "start_time": "2019-07-02T12:37:38.116Z"
    }
   },
   "outputs": [],
   "source": [
    "print(\"Tallene 1-5:\")\n",
    "\n",
    "# skriv koden din her"
   ]
  },
  {
   "attachments": {},
   "cell_type": "markdown",
   "metadata": {
    "deletable": false,
    "editable": false,
    "run_control": {
     "frozen": true
    }
   },
   "source": [
    "## f) "
   ]
  },
  {
   "attachments": {},
   "cell_type": "markdown",
   "metadata": {
    "deletable": false,
    "editable": false,
    "run_control": {
     "frozen": true
    }
   },
   "source": [
    "Lag et program som teller nedover fra 15 til 1 ved hjelp av en for-løkke. Skriv ut alle tallene.\n",
    "\n",
    "Hint: Hvordan kan en endre intervallet til å telle nedover (*minus*)\n",
    "\n",
    "***Skriv koden din her:***"
   ]
  },
  {
   "cell_type": "code",
   "execution_count": null,
   "metadata": {},
   "outputs": [],
   "source": [
    "print(\"Tallene i 15-1:\")\n",
    "\n",
    "# skriv koden din her"
   ]
  },
  {
   "attachments": {},
   "cell_type": "markdown",
   "metadata": {
    "deletable": false,
    "editable": false,
    "heading_collapsed": true,
    "run_control": {
     "frozen": true
    }
   },
   "source": [
    "## ⚠️Evig while-løkke⚠️"
   ]
  },
  {
   "attachments": {},
   "cell_type": "markdown",
   "metadata": {
    "deletable": false,
    "editable": false,
    "hidden": true,
    "run_control": {
     "frozen": true
    }
   },
   "source": [
    "Hvis en while-løkke ikke blir stoppet kan den kjøre evig. Et eksempel er en løkke som starter ***while True*** ; da vil betingelsen alltid være sann uansett hva som skjer inni løkka. Løkka vist under vil printe Jeg elsker KPR! et uendelig antall ganger.\n",
    "\n",
    "Det vil vanligvis gå greit å stoppe programmet likevel, enten ved å trykke Ctrl-C eller ved å lukke vinduet der koden kjører... men ⚠️ **lagre for sikkerhets skyld alle filer du jobber med før du eksperimenterer med å kjøre en evig løkke** ⚠️.\n",
    "\n",
    "Eksempel på en evig løkke:"
   ]
  },
  {
   "cell_type": "code",
   "execution_count": null,
   "metadata": {
    "ExecuteTime": {
     "end_time": "2019-07-02T12:45:50.310736Z",
     "start_time": "2019-07-02T12:40:47.558Z"
    },
    "hidden": true
   },
   "outputs": [],
   "source": [
    "while True:\n",
    "    print(\"Jeg elsker KPR!\")"
   ]
  }
 ],
 "metadata": {
  "kernelspec": {
   "display_name": "Python 3",
   "language": "python",
   "name": "python3"
  },
  "language_info": {
   "codemirror_mode": {
    "name": "ipython",
    "version": 3
   },
   "file_extension": ".py",
   "mimetype": "text/x-python",
   "name": "python",
   "nbconvert_exporter": "python",
   "pygments_lexer": "ipython3",
   "version": "3.11.9"
  },
  "toc": {
   "base_numbering": 1,
   "nav_menu": {},
   "number_sections": false,
   "sideBar": true,
   "skip_h1_title": false,
   "title_cell": "Table of Contents",
   "title_sidebar": "Contents",
   "toc_cell": false,
   "toc_position": {},
   "toc_section_display": true,
   "toc_window_display": false
  }
 },
 "nbformat": 4,
 "nbformat_minor": 2
}
