{
 "cells": [
  {
   "cell_type": "markdown",
   "metadata": {},
   "source": [
    "# A wild hidden quest 3-3 appeared!\n",
    "\n",
    "![img](./../img/hidden-quest-img.png)\n",
    "\n",
    "**Klarer du oppgaven ryktes det Heimdallsquest XP**"
   ]
  },
  {
   "attachments": {},
   "cell_type": "markdown",
   "metadata": {
    "deletable": false,
    "editable": false,
    "run_control": {
     "frozen": true
    }
   },
   "source": [
    "# Intro til nøstede løkker\n",
    "\n",
    "**Læringsmål:**\n",
    "\n",
    "* Nøstede løkker\n",
    "\n",
    "I denne oppgaven skal du lære hvordan vi kan benytte oss av en løkke inne i en annen løkke. "
   ]
  },
  {
   "attachments": {},
   "cell_type": "markdown",
   "metadata": {
    "deletable": false,
    "editable": false,
    "heading_collapsed": true,
    "run_control": {
     "frozen": true
    }
   },
   "source": [
    "### Intro til nøstede løkker"
   ]
  },
  {
   "attachments": {},
   "cell_type": "markdown",
   "metadata": {
    "deletable": false,
    "editable": false,
    "hidden": true,
    "run_control": {
     "frozen": true
    }
   },
   "source": [
    "Nøstede løkker vil si løkker som er inni andre løkker. Et eksempel på en nøstet løkke er en dobbel løkke, som vil si at det er en løkke inni en annen løkke. Doble løkker brukes mye i programmering, typisk når man skal løse problemer som på en eller annen måte er todimensjonale, f.eks. knyttet til matriser eller todimensjonale tabeller med tall. Todimensjonal her kan bety rent visuelt (f.eks. at man skal tegne noe på en skjerm og må oppdatere fargen i hvert punkt i et rutenett av piksler), men behøver ikke å ha noen visuell betydning. Det kan være snakk om dimensjoner av informasjon på en mer abstrakt måte. F.eks. kan de to dimensjonene være tall og verdier i kortstokken, vi kan da generere en hel kortstokk ved en dobbel løkke som følger:"
   ]
  },
  {
   "cell_type": "code",
   "execution_count": null,
   "metadata": {
    "ExecuteTime": {
     "end_time": "2019-07-02T13:13:16.212772Z",
     "start_time": "2019-07-02T13:13:16.199788Z"
    },
    "hidden": true
   },
   "outputs": [],
   "source": [
    "for farge in ['♠', '♣', '♥', '♦']:\n",
    "    for verdi in ['A', '2', '3', '4', '5', '6', '7', '8',\n",
    "                  '9', '10', 'J', 'Q', 'K']:\n",
    "        print(farge+verdi, end=\" \")\n",
    "    print()"
   ]
  },
  {
   "attachments": {},
   "cell_type": "markdown",
   "metadata": {
    "deletable": false,
    "editable": false,
    "hidden": true,
    "run_control": {
     "frozen": true
    }
   },
   "source": [
    "Den innerste løkka går 13 runder hver gang den kjører fordi det er 13 elementer i sekvensen som gis til for-løkka. Den printer de 13 kortene i en farge; end=\" \" i print-setninga gjør at vi ikke skifter linje men bare setter en blank mellom hvert kort.\n",
    "\n",
    "print() nederst tilhører den ytre løkka (merk margen), denne sørger for at vi skifter linje etter hver rekke. Den ytre løkka går 4 ganger, en for hver farge i kortstokken"
   ]
  },
  {
   "attachments": {},
   "cell_type": "markdown",
   "metadata": {
    "deletable": false,
    "editable": false,
    "run_control": {
     "frozen": true
    }
   },
   "source": [
    "## a)"
   ]
  },
  {
   "cell_type": "code",
   "execution_count": null,
   "metadata": {},
   "outputs": [],
   "source": [
    "for x in range(5):\n",
    "    print(\"Jeg elsker KPR!  Jeg elsker KPR!  Jeg elsker KPR!\")"
   ]
  },
  {
   "attachments": {},
   "cell_type": "markdown",
   "metadata": {
    "deletable": false,
    "editable": false,
    "run_control": {
     "frozen": true
    }
   },
   "source": [
    "Koden over vil skrive ut “Jeg elsker KPR!” tre ganger ved siden av hverandre fem ganger nedover.\n",
    "\n",
    "Kopier koden i eksemplet \"Jeg elsker KPR!\" over og kjør programmet. Denne utskriften trenger man strengt tatt ikke dobbel løkke for å få til; selve utskriften gir riktig nok et todimensjonalt inntrykk, men siden den underliggende informasjonen ikke er todimensjonal men derimot konstant (samme utskrift \"Jeg elsker KPR!\" i alle tilfeller), er det også greit mulig å klare dette med enkel løkke, eller helt uten løkker, som følger:"
   ]
  },
  {
   "cell_type": "code",
   "execution_count": null,
   "metadata": {
    "ExecuteTime": {
     "end_time": "2019-07-02T13:15:07.223226Z",
     "start_time": "2019-07-02T13:15:07.215744Z"
    }
   },
   "outputs": [],
   "source": [
    "# Løsning uten løkker; \"\\n\" er tegnet for linjeskift (newline på engelsk)\n",
    "print(((\"Jeg elsker KPR!  \" * 3) + \"\\n\") * 5)"
   ]
  },
  {
   "attachments": {},
   "cell_type": "markdown",
   "metadata": {
    "deletable": false,
    "editable": false,
    "run_control": {
     "frozen": true
    }
   },
   "source": [
    "Hvis vi derimot endrer litt på kravene til programmet, så det skal handle om flere elever enn \"Jeg\" og flere fag enn \"KPR\", vil vi ha et genuint todimensjonalt problem (én dimensjon er elever, en annen fag) hvor dobbel løkke vil være klart enkleste løsning. \n",
    "\n",
    "**Din oppgave: endre programmet så det gir utskrift som vist nedenfor**. Fra forrige oppgave skal altså Jeg byttes ut med Elev &lt;nummer>, og KPR skal byttes ut med Fag &lt;nummer>. Brukeren skal angi ønsket antall for både elever og Fag, 4 og 3 er bare eksempler.\n",
    "\n",
    "```\n",
    "Hvor mange elever? 4\n",
    "Hvor mange Fag? 3\n",
    "Elev 1 elsker Fag 1 ; Elev 1 elsker Fag 2 ; Elev 1 elsker Fag 3 ;\n",
    "Elev 2 elsker Fag 1 ; Elev 2 elsker Fag 2 ; Elev 2 elsker Fag 3 ;\n",
    "Elev 3 elsker Fag 1 ; Elev 3 elsker Fag 2 ; Elev 3 elsker Fag 3 ;\n",
    "Elev 4 elsker Fag 1 ; Elev 4 elsker Fag 2 ; Elev 4 elsker Fag 3 ;\n",
    "```\n",
    "\n",
    "**EKSTRA UTFORDRING** (ikke nødvendig for å få godkjent (a)): For å gjøre programmet litt mindre tørt og abstrakt, kan du prøve å endre så det skriver fornavn på personer i stedet for \"Elev x\", og navn på faktiske fag i stedet for Fag y - jfr eksempel med kortstokk i teksten \"Intro til nøstede løkker\" øverst i denne oppgaven. For å gjøre det mindre forutsigbart, kan du dessuten bruke funksjonen random() for å generere tilfeldige tall for hver runde av løkka, og ha en if-setning for å velge verb basert på verdien av dette. F.eks. \"elsker\" bare hvis tallet ble > 0.9, og gradvis litt mer beskjedne verb til lavere tallverdien var."
   ]
  },
  {
   "attachments": {},
   "cell_type": "markdown",
   "metadata": {
    "deletable": false,
    "editable": false,
    "run_control": {
     "frozen": true
    }
   },
   "source": [
    "## b)"
   ]
  },
  {
   "attachments": {},
   "cell_type": "markdown",
   "metadata": {
    "deletable": false,
    "editable": false,
    "run_control": {
     "frozen": true
    }
   },
   "source": [
    "Bruk en dobbel løkke til å skrive ut en liste over alle klokkeslett i løpet av et døgn på en fin måte. Du trenger kun å tenke på timer og minutter. Klokkeslettene skal gå fra 0:0 til 23:59 som vist nedenfor.\n",
    "\n",
    "Eksempel på kjøring av kode:\n",
    "\n",
    "```python\n",
    "0:0\n",
    "0:1\n",
    "0:2\n",
    ".\n",
    ".       # Alle klokkeslett i mellom her skal skrives ut\n",
    ".\n",
    "23:58\n",
    "23:59```\n",
    "\n",
    "***Skriv koden din her:***"
   ]
  },
  {
   "cell_type": "code",
   "execution_count": null,
   "metadata": {
    "ExecuteTime": {
     "end_time": "2019-07-02T13:21:25.863928Z",
     "start_time": "2019-07-02T13:21:25.855403Z"
    }
   },
   "outputs": [],
   "source": []
  },
  {
   "attachments": {},
   "cell_type": "markdown",
   "metadata": {
    "deletable": false,
    "editable": false,
    "run_control": {
     "frozen": true
    }
   },
   "source": [
    "## c)"
   ]
  },
  {
   "attachments": {},
   "cell_type": "markdown",
   "metadata": {
    "deletable": false,
    "editable": false,
    "run_control": {
     "frozen": true
    }
   },
   "source": [
    "Bruk doble løkker til å skrive ut alle tallene i den lille gangetabellen, dvs. lag to for-løkker opp til 11 og multipliser variabelen x fra den ene løkken med variabelen y fra den andre løkken og skriv det ut i den innerste løkken. Du trenger ikke å tenke på formatet til utskriften.\n",
    "\n",
    "Eksempel på kjøring:\n",
    "\n",
    "```python\n",
    "1\n",
    "2\n",
    "3\n",
    "4\n",
    "5\n",
    ".\n",
    ".\n",
    ".\n",
    "60\n",
    "70\n",
    "80\n",
    "90\n",
    "100\n",
    "```\n",
    "***Skriv koden din her:***"
   ]
  },
  {
   "cell_type": "code",
   "execution_count": null,
   "metadata": {
    "ExecuteTime": {
     "end_time": "2019-07-02T13:22:00.046861Z",
     "start_time": "2019-07-02T13:22:00.042947Z"
    }
   },
   "outputs": [],
   "source": []
  },
  {
   "attachments": {},
   "cell_type": "markdown",
   "metadata": {
    "deletable": false,
    "editable": false,
    "run_control": {
     "frozen": true
    }
   },
   "source": [
    "**Bonus**: Forsøk å legg inn en tom print() etter den innerste løkken i c) har kjørt (dvs. på samme innrykk som innerste for, men nedenfor print-funksjonen som skriver ut tallene). Legg også til end = '  ' på slutten av print-funksjonen som printer ut tallene. Ser du nå at det ligner mer på en gangetabell?"
   ]
  }
 ],
 "metadata": {
  "kernelspec": {
   "display_name": "Python 3 (ipykernel)",
   "language": "python",
   "name": "python3"
  },
  "language_info": {
   "codemirror_mode": {
    "name": "ipython",
    "version": 3
   },
   "file_extension": ".py",
   "mimetype": "text/x-python",
   "name": "python",
   "nbconvert_exporter": "python",
   "pygments_lexer": "ipython3",
   "version": "3.10.11"
  },
  "toc": {
   "base_numbering": 1,
   "nav_menu": {},
   "number_sections": false,
   "sideBar": true,
   "skip_h1_title": false,
   "title_cell": "Table of Contents",
   "title_sidebar": "Contents",
   "toc_cell": false,
   "toc_position": {},
   "toc_section_display": true,
   "toc_window_display": false
  }
 },
 "nbformat": 4,
 "nbformat_minor": 2
}
